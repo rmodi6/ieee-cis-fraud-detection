{
 "cells": [
  {
   "cell_type": "code",
   "execution_count": 1,
   "metadata": {
    "colab": {},
    "colab_type": "code",
    "id": "N5hg7FdTFP8V"
   },
   "outputs": [],
   "source": [
    "%config IPCompleter.greedy=True"
   ]
  },
  {
   "cell_type": "code",
   "execution_count": 2,
   "metadata": {
    "colab": {},
    "colab_type": "code",
    "id": "N5hg7FdTFP8V"
   },
   "outputs": [],
   "source": [
    "import pandas as pd\n",
    "import numpy as np\n",
    "import matplotlib as mpl\n",
    "import matplotlib.pyplot as plt\n",
    "import seaborn as sns\n",
    "import datatable as dt"
   ]
  },
  {
   "cell_type": "code",
   "execution_count": 3,
   "metadata": {
    "colab": {},
    "colab_type": "code",
    "id": "rKWhDyDFFlYv"
   },
   "outputs": [],
   "source": [
    "train_transaction =  dt.fread(\"/home/rmodi/Documents/CSE519/hw2/dataset/train_transaction.csv\").to_pandas()\n",
    "train_identity = dt.fread(\"/home/rmodi/Documents/CSE519/hw2/dataset/train_identity.csv\").to_pandas()"
   ]
  },
  {
   "cell_type": "code",
   "execution_count": 4,
   "metadata": {
    "colab": {},
    "colab_type": "code",
    "id": "0R_HOvzCzsNu"
   },
   "outputs": [],
   "source": [
    "trainset = pd.merge(train_transaction, train_identity, on='TransactionID', how='outer')\n",
    "%reset_selective -f train_transaction\n",
    "%reset_selective -f train_identity"
   ]
  },
  {
   "cell_type": "code",
   "execution_count": 5,
   "metadata": {
    "colab": {},
    "colab_type": "code",
    "id": "8vmc3RK-HxfK"
   },
   "outputs": [],
   "source": [
    "trainset = trainset[[\"TransactionID\",\"DeviceType\",\"DeviceInfo\",\"TransactionDT\",\"TransactionAmt\",\"ProductCD\",\"card4\",\"card6\",\"P_emaildomain\",\"R_emaildomain\",\"addr1\",\"addr2\",\"dist1\",\"dist2\",\"isFraud\"]]"
   ]
  },
  {
   "cell_type": "code",
   "execution_count": 6,
   "metadata": {
    "colab": {
     "base_uri": "https://localhost:8080/",
     "height": 204
    },
    "colab_type": "code",
    "id": "CS2gN38qJ1m5",
    "outputId": "a7e1eb99-1595-4ee5-a958-22cbcf41087b"
   },
   "outputs": [
    {
     "data": {
      "text/html": [
       "<div>\n",
       "<style scoped>\n",
       "    .dataframe tbody tr th:only-of-type {\n",
       "        vertical-align: middle;\n",
       "    }\n",
       "\n",
       "    .dataframe tbody tr th {\n",
       "        vertical-align: top;\n",
       "    }\n",
       "\n",
       "    .dataframe thead th {\n",
       "        text-align: right;\n",
       "    }\n",
       "</style>\n",
       "<table border=\"1\" class=\"dataframe\">\n",
       "  <thead>\n",
       "    <tr style=\"text-align: right;\">\n",
       "      <th></th>\n",
       "      <th>TransactionID</th>\n",
       "      <th>DeviceType</th>\n",
       "      <th>DeviceInfo</th>\n",
       "      <th>TransactionDT</th>\n",
       "      <th>TransactionAmt</th>\n",
       "      <th>ProductCD</th>\n",
       "      <th>card4</th>\n",
       "      <th>card6</th>\n",
       "      <th>P_emaildomain</th>\n",
       "      <th>R_emaildomain</th>\n",
       "      <th>addr1</th>\n",
       "      <th>addr2</th>\n",
       "      <th>dist1</th>\n",
       "      <th>dist2</th>\n",
       "      <th>isFraud</th>\n",
       "    </tr>\n",
       "  </thead>\n",
       "  <tbody>\n",
       "    <tr>\n",
       "      <th>0</th>\n",
       "      <td>2987000</td>\n",
       "      <td>NaN</td>\n",
       "      <td>NaN</td>\n",
       "      <td>86400</td>\n",
       "      <td>68.5</td>\n",
       "      <td>W</td>\n",
       "      <td>discover</td>\n",
       "      <td>credit</td>\n",
       "      <td></td>\n",
       "      <td></td>\n",
       "      <td>315.0</td>\n",
       "      <td>87.0</td>\n",
       "      <td>19.0</td>\n",
       "      <td>NaN</td>\n",
       "      <td>False</td>\n",
       "    </tr>\n",
       "    <tr>\n",
       "      <th>1</th>\n",
       "      <td>2987001</td>\n",
       "      <td>NaN</td>\n",
       "      <td>NaN</td>\n",
       "      <td>86401</td>\n",
       "      <td>29.0</td>\n",
       "      <td>W</td>\n",
       "      <td>mastercard</td>\n",
       "      <td>credit</td>\n",
       "      <td>gmail.com</td>\n",
       "      <td></td>\n",
       "      <td>325.0</td>\n",
       "      <td>87.0</td>\n",
       "      <td>NaN</td>\n",
       "      <td>NaN</td>\n",
       "      <td>False</td>\n",
       "    </tr>\n",
       "    <tr>\n",
       "      <th>2</th>\n",
       "      <td>2987002</td>\n",
       "      <td>NaN</td>\n",
       "      <td>NaN</td>\n",
       "      <td>86469</td>\n",
       "      <td>59.0</td>\n",
       "      <td>W</td>\n",
       "      <td>visa</td>\n",
       "      <td>debit</td>\n",
       "      <td>outlook.com</td>\n",
       "      <td></td>\n",
       "      <td>330.0</td>\n",
       "      <td>87.0</td>\n",
       "      <td>287.0</td>\n",
       "      <td>NaN</td>\n",
       "      <td>False</td>\n",
       "    </tr>\n",
       "    <tr>\n",
       "      <th>3</th>\n",
       "      <td>2987003</td>\n",
       "      <td>NaN</td>\n",
       "      <td>NaN</td>\n",
       "      <td>86499</td>\n",
       "      <td>50.0</td>\n",
       "      <td>W</td>\n",
       "      <td>mastercard</td>\n",
       "      <td>debit</td>\n",
       "      <td>yahoo.com</td>\n",
       "      <td></td>\n",
       "      <td>476.0</td>\n",
       "      <td>87.0</td>\n",
       "      <td>NaN</td>\n",
       "      <td>NaN</td>\n",
       "      <td>False</td>\n",
       "    </tr>\n",
       "    <tr>\n",
       "      <th>4</th>\n",
       "      <td>2987004</td>\n",
       "      <td>mobile</td>\n",
       "      <td>SAMSUNG SM-G892A Build/NRD90M</td>\n",
       "      <td>86506</td>\n",
       "      <td>50.0</td>\n",
       "      <td>H</td>\n",
       "      <td>mastercard</td>\n",
       "      <td>credit</td>\n",
       "      <td>gmail.com</td>\n",
       "      <td></td>\n",
       "      <td>420.0</td>\n",
       "      <td>87.0</td>\n",
       "      <td>NaN</td>\n",
       "      <td>NaN</td>\n",
       "      <td>False</td>\n",
       "    </tr>\n",
       "  </tbody>\n",
       "</table>\n",
       "</div>"
      ],
      "text/plain": [
       "   TransactionID DeviceType                     DeviceInfo  TransactionDT  \\\n",
       "0        2987000        NaN                            NaN          86400   \n",
       "1        2987001        NaN                            NaN          86401   \n",
       "2        2987002        NaN                            NaN          86469   \n",
       "3        2987003        NaN                            NaN          86499   \n",
       "4        2987004     mobile  SAMSUNG SM-G892A Build/NRD90M          86506   \n",
       "\n",
       "   TransactionAmt ProductCD       card4   card6 P_emaildomain R_emaildomain  \\\n",
       "0            68.5         W    discover  credit                               \n",
       "1            29.0         W  mastercard  credit     gmail.com                 \n",
       "2            59.0         W        visa   debit   outlook.com                 \n",
       "3            50.0         W  mastercard   debit     yahoo.com                 \n",
       "4            50.0         H  mastercard  credit     gmail.com                 \n",
       "\n",
       "   addr1  addr2  dist1  dist2  isFraud  \n",
       "0  315.0   87.0   19.0    NaN    False  \n",
       "1  325.0   87.0    NaN    NaN    False  \n",
       "2  330.0   87.0  287.0    NaN    False  \n",
       "3  476.0   87.0    NaN    NaN    False  \n",
       "4  420.0   87.0    NaN    NaN    False  "
      ]
     },
     "execution_count": 6,
     "metadata": {},
     "output_type": "execute_result"
    }
   ],
   "source": [
    "trainset.iloc[:5]"
   ]
  },
  {
   "cell_type": "code",
   "execution_count": 7,
   "metadata": {
    "colab": {
     "base_uri": "https://localhost:8080/",
     "height": 297
    },
    "colab_type": "code",
    "id": "T_twqS7wMD1T",
    "outputId": "95741762-d99b-471e-ecbd-f15c91483835"
   },
   "outputs": [
    {
     "data": {
      "text/html": [
       "<div>\n",
       "<style scoped>\n",
       "    .dataframe tbody tr th:only-of-type {\n",
       "        vertical-align: middle;\n",
       "    }\n",
       "\n",
       "    .dataframe tbody tr th {\n",
       "        vertical-align: top;\n",
       "    }\n",
       "\n",
       "    .dataframe thead tr th {\n",
       "        text-align: left;\n",
       "    }\n",
       "\n",
       "    .dataframe thead tr:last-of-type th {\n",
       "        text-align: right;\n",
       "    }\n",
       "</style>\n",
       "<table border=\"1\" class=\"dataframe\">\n",
       "  <thead>\n",
       "    <tr>\n",
       "      <th></th>\n",
       "      <th colspan=\"2\" halign=\"left\">TransactionID</th>\n",
       "      <th colspan=\"2\" halign=\"left\">TransactionDT</th>\n",
       "      <th colspan=\"2\" halign=\"left\">TransactionAmt</th>\n",
       "      <th colspan=\"2\" halign=\"left\">addr1</th>\n",
       "      <th colspan=\"2\" halign=\"left\">addr2</th>\n",
       "      <th colspan=\"2\" halign=\"left\">dist1</th>\n",
       "      <th colspan=\"2\" halign=\"left\">dist2</th>\n",
       "    </tr>\n",
       "    <tr>\n",
       "      <th></th>\n",
       "      <th>mean</th>\n",
       "      <th>median</th>\n",
       "      <th>mean</th>\n",
       "      <th>median</th>\n",
       "      <th>mean</th>\n",
       "      <th>median</th>\n",
       "      <th>mean</th>\n",
       "      <th>median</th>\n",
       "      <th>mean</th>\n",
       "      <th>median</th>\n",
       "      <th>mean</th>\n",
       "      <th>median</th>\n",
       "      <th>mean</th>\n",
       "      <th>median</th>\n",
       "    </tr>\n",
       "    <tr>\n",
       "      <th>isFraud</th>\n",
       "      <th></th>\n",
       "      <th></th>\n",
       "      <th></th>\n",
       "      <th></th>\n",
       "      <th></th>\n",
       "      <th></th>\n",
       "      <th></th>\n",
       "      <th></th>\n",
       "      <th></th>\n",
       "      <th></th>\n",
       "      <th></th>\n",
       "      <th></th>\n",
       "      <th></th>\n",
       "      <th></th>\n",
       "    </tr>\n",
       "  </thead>\n",
       "  <tbody>\n",
       "    <tr>\n",
       "      <th>False</th>\n",
       "      <td>3.281810e+06</td>\n",
       "      <td>3281808</td>\n",
       "      <td>7.360791e+06</td>\n",
       "      <td>7271678</td>\n",
       "      <td>134.511665</td>\n",
       "      <td>68.5</td>\n",
       "      <td>290.643341</td>\n",
       "      <td>299.0</td>\n",
       "      <td>86.813620</td>\n",
       "      <td>87.0</td>\n",
       "      <td>117.360098</td>\n",
       "      <td>8.0</td>\n",
       "      <td>235.199758</td>\n",
       "      <td>36.0</td>\n",
       "    </tr>\n",
       "    <tr>\n",
       "      <th>True</th>\n",
       "      <td>3.294952e+06</td>\n",
       "      <td>3291934</td>\n",
       "      <td>7.690033e+06</td>\n",
       "      <td>7575230</td>\n",
       "      <td>149.244779</td>\n",
       "      <td>75.0</td>\n",
       "      <td>294.317134</td>\n",
       "      <td>299.0</td>\n",
       "      <td>86.286024</td>\n",
       "      <td>87.0</td>\n",
       "      <td>174.588854</td>\n",
       "      <td>10.0</td>\n",
       "      <td>201.472259</td>\n",
       "      <td>49.0</td>\n",
       "    </tr>\n",
       "  </tbody>\n",
       "</table>\n",
       "</div>"
      ],
      "text/plain": [
       "        TransactionID          TransactionDT          TransactionAmt         \\\n",
       "                 mean   median          mean   median           mean median   \n",
       "isFraud                                                                       \n",
       "False    3.281810e+06  3281808  7.360791e+06  7271678     134.511665   68.5   \n",
       "True     3.294952e+06  3291934  7.690033e+06  7575230     149.244779   75.0   \n",
       "\n",
       "              addr1             addr2              dist1              dist2  \\\n",
       "               mean median       mean median        mean median        mean   \n",
       "isFraud                                                                       \n",
       "False    290.643341  299.0  86.813620   87.0  117.360098    8.0  235.199758   \n",
       "True     294.317134  299.0  86.286024   87.0  174.588854   10.0  201.472259   \n",
       "\n",
       "                \n",
       "        median  \n",
       "isFraud         \n",
       "False     36.0  \n",
       "True      49.0  "
      ]
     },
     "execution_count": 7,
     "metadata": {},
     "output_type": "execute_result"
    }
   ],
   "source": [
    "trainset.groupby('isFraud').agg([np.mean, np.median])"
   ]
  },
  {
   "cell_type": "code",
   "execution_count": 8,
   "metadata": {},
   "outputs": [],
   "source": [
    "trainset['TransactionDT_day'] = trainset['TransactionDT'].apply(lambda x: int(x/86400))\n",
    "trainset['TransactionDT_hour'] = trainset['TransactionDT'].apply(lambda x: int(x/86400%1*24))\n",
    "trainset['TransactionDT_min'] = trainset['TransactionDT'].apply(lambda x: int(x/86400%1*24%1*60))\n",
    "trainset['TransactionDT_sec'] = trainset['TransactionDT'].apply(lambda x: int(x/86400%1*24%1*60%1*60))"
   ]
  },
  {
   "cell_type": "markdown",
   "metadata": {},
   "source": [
    "Question 1\n",
    "----------"
   ]
  },
  {
   "cell_type": "code",
   "execution_count": 9,
   "metadata": {},
   "outputs": [
    {
     "data": {
      "image/png": "[encoded data removed]",
      "text/plain": [
       "<Figure size 1728x1152 with 9 Axes>"
      ]
     },
     "metadata": {
      "needs_background": "light"
     },
     "output_type": "display_data"
    }
   ],
   "source": [
    "hist0 = trainset[trainset['isFraud'] == True][[\"TransactionID\",\"TransactionDT\",\"TransactionAmt\",\"addr1\",\"addr2\",\"dist1\",\"dist2\"]].hist(grid=False, figsize=(24,16), color='#86bf91', zorder=2, rwidth=0.9)"
   ]
  },
  {
   "cell_type": "code",
   "execution_count": 10,
   "metadata": {},
   "outputs": [
    {
     "data": {
      "text/html": [
       "<div>\n",
       "<style scoped>\n",
       "    .dataframe tbody tr th:only-of-type {\n",
       "        vertical-align: middle;\n",
       "    }\n",
       "\n",
       "    .dataframe tbody tr th {\n",
       "        vertical-align: top;\n",
       "    }\n",
       "\n",
       "    .dataframe thead th {\n",
       "        text-align: right;\n",
       "    }\n",
       "</style>\n",
       "<table border=\"1\" class=\"dataframe\">\n",
       "  <thead>\n",
       "    <tr style=\"text-align: right;\">\n",
       "      <th></th>\n",
       "      <th>TransactionID</th>\n",
       "      <th>TransactionDT</th>\n",
       "      <th>TransactionAmt</th>\n",
       "      <th>addr1</th>\n",
       "      <th>addr2</th>\n",
       "      <th>dist1</th>\n",
       "      <th>dist2</th>\n",
       "    </tr>\n",
       "  </thead>\n",
       "  <tbody>\n",
       "    <tr>\n",
       "      <th>count</th>\n",
       "      <td>2.066300e+04</td>\n",
       "      <td>2.066300e+04</td>\n",
       "      <td>20663.000000</td>\n",
       "      <td>12922.000000</td>\n",
       "      <td>12922.000000</td>\n",
       "      <td>4755.000000</td>\n",
       "      <td>3731.000000</td>\n",
       "    </tr>\n",
       "    <tr>\n",
       "      <th>mean</th>\n",
       "      <td>3.294952e+06</td>\n",
       "      <td>7.690033e+06</td>\n",
       "      <td>149.244779</td>\n",
       "      <td>294.317134</td>\n",
       "      <td>86.286024</td>\n",
       "      <td>174.588854</td>\n",
       "      <td>201.472259</td>\n",
       "    </tr>\n",
       "    <tr>\n",
       "      <th>std</th>\n",
       "      <td>1.620403e+05</td>\n",
       "      <td>4.416551e+06</td>\n",
       "      <td>232.212163</td>\n",
       "      <td>103.584955</td>\n",
       "      <td>4.936238</td>\n",
       "      <td>424.232313</td>\n",
       "      <td>451.589576</td>\n",
       "    </tr>\n",
       "    <tr>\n",
       "      <th>min</th>\n",
       "      <td>2.987203e+06</td>\n",
       "      <td>8.976000e+04</td>\n",
       "      <td>0.292000</td>\n",
       "      <td>110.000000</td>\n",
       "      <td>10.000000</td>\n",
       "      <td>0.000000</td>\n",
       "      <td>0.000000</td>\n",
       "    </tr>\n",
       "    <tr>\n",
       "      <th>25%</th>\n",
       "      <td>3.167366e+06</td>\n",
       "      <td>3.965858e+06</td>\n",
       "      <td>35.044000</td>\n",
       "      <td>204.000000</td>\n",
       "      <td>87.000000</td>\n",
       "      <td>3.000000</td>\n",
       "      <td>7.000000</td>\n",
       "    </tr>\n",
       "    <tr>\n",
       "      <th>50%</th>\n",
       "      <td>3.291934e+06</td>\n",
       "      <td>7.575230e+06</td>\n",
       "      <td>75.000000</td>\n",
       "      <td>299.000000</td>\n",
       "      <td>87.000000</td>\n",
       "      <td>10.000000</td>\n",
       "      <td>49.000000</td>\n",
       "    </tr>\n",
       "    <tr>\n",
       "      <th>75%</th>\n",
       "      <td>3.428646e+06</td>\n",
       "      <td>1.121743e+07</td>\n",
       "      <td>161.000000</td>\n",
       "      <td>330.000000</td>\n",
       "      <td>87.000000</td>\n",
       "      <td>85.500000</td>\n",
       "      <td>233.000000</td>\n",
       "    </tr>\n",
       "    <tr>\n",
       "      <th>max</th>\n",
       "      <td>3.577526e+06</td>\n",
       "      <td>1.581088e+07</td>\n",
       "      <td>5191.000000</td>\n",
       "      <td>536.000000</td>\n",
       "      <td>96.000000</td>\n",
       "      <td>4942.000000</td>\n",
       "      <td>9337.000000</td>\n",
       "    </tr>\n",
       "  </tbody>\n",
       "</table>\n",
       "</div>"
      ],
      "text/plain": [
       "       TransactionID  TransactionDT  TransactionAmt         addr1  \\\n",
       "count   2.066300e+04   2.066300e+04    20663.000000  12922.000000   \n",
       "mean    3.294952e+06   7.690033e+06      149.244779    294.317134   \n",
       "std     1.620403e+05   4.416551e+06      232.212163    103.584955   \n",
       "min     2.987203e+06   8.976000e+04        0.292000    110.000000   \n",
       "25%     3.167366e+06   3.965858e+06       35.044000    204.000000   \n",
       "50%     3.291934e+06   7.575230e+06       75.000000    299.000000   \n",
       "75%     3.428646e+06   1.121743e+07      161.000000    330.000000   \n",
       "max     3.577526e+06   1.581088e+07     5191.000000    536.000000   \n",
       "\n",
       "              addr2        dist1        dist2  \n",
       "count  12922.000000  4755.000000  3731.000000  \n",
       "mean      86.286024   174.588854   201.472259  \n",
       "std        4.936238   424.232313   451.589576  \n",
       "min       10.000000     0.000000     0.000000  \n",
       "25%       87.000000     3.000000     7.000000  \n",
       "50%       87.000000    10.000000    49.000000  \n",
       "75%       87.000000    85.500000   233.000000  \n",
       "max       96.000000  4942.000000  9337.000000  "
      ]
     },
     "execution_count": 10,
     "metadata": {},
     "output_type": "execute_result"
    }
   ],
   "source": [
    "trainset[trainset['isFraud'] == True][[\"TransactionID\",\"TransactionDT\",\"TransactionAmt\",\"addr1\",\"addr2\",\"dist1\",\"dist2\"]].describe()"
   ]
  },
  {
   "cell_type": "code",
   "execution_count": 11,
   "metadata": {},
   "outputs": [
    {
     "data": {
      "image/png": "[encoded data removed]",
      "text/plain": [
       "<Figure size 1728x1152 with 9 Axes>"
      ]
     },
     "metadata": {
      "needs_background": "light"
     },
     "output_type": "display_data"
    }
   ],
   "source": [
    "hist0 = trainset[trainset['isFraud'] == False][[\"TransactionID\",\"TransactionDT\",\"TransactionAmt\",\"addr1\",\"addr2\",\"dist1\",\"dist2\"]].hist(grid=False, figsize=(24,16), color='#86bf91', zorder=2, rwidth=0.9)"
   ]
  },
  {
   "cell_type": "code",
   "execution_count": 12,
   "metadata": {},
   "outputs": [
    {
     "data": {
      "text/html": [
       "<div>\n",
       "<style scoped>\n",
       "    .dataframe tbody tr th:only-of-type {\n",
       "        vertical-align: middle;\n",
       "    }\n",
       "\n",
       "    .dataframe tbody tr th {\n",
       "        vertical-align: top;\n",
       "    }\n",
       "\n",
       "    .dataframe thead th {\n",
       "        text-align: right;\n",
       "    }\n",
       "</style>\n",
       "<table border=\"1\" class=\"dataframe\">\n",
       "  <thead>\n",
       "    <tr style=\"text-align: right;\">\n",
       "      <th></th>\n",
       "      <th>TransactionID</th>\n",
       "      <th>TransactionDT</th>\n",
       "      <th>TransactionAmt</th>\n",
       "      <th>addr1</th>\n",
       "      <th>addr2</th>\n",
       "      <th>dist1</th>\n",
       "      <th>dist2</th>\n",
       "    </tr>\n",
       "  </thead>\n",
       "  <tbody>\n",
       "    <tr>\n",
       "      <th>count</th>\n",
       "      <td>5.698770e+05</td>\n",
       "      <td>5.698770e+05</td>\n",
       "      <td>569877.000000</td>\n",
       "      <td>511912.000000</td>\n",
       "      <td>511912.000000</td>\n",
       "      <td>233514.000000</td>\n",
       "      <td>33896.000000</td>\n",
       "    </tr>\n",
       "    <tr>\n",
       "      <th>mean</th>\n",
       "      <td>3.281810e+06</td>\n",
       "      <td>7.360791e+06</td>\n",
       "      <td>134.511665</td>\n",
       "      <td>290.643341</td>\n",
       "      <td>86.813620</td>\n",
       "      <td>117.360098</td>\n",
       "      <td>235.199758</td>\n",
       "    </tr>\n",
       "    <tr>\n",
       "      <th>std</th>\n",
       "      <td>1.707548e+05</td>\n",
       "      <td>4.623930e+06</td>\n",
       "      <td>239.395078</td>\n",
       "      <td>101.692564</td>\n",
       "      <td>2.607742</td>\n",
       "      <td>370.641879</td>\n",
       "      <td>536.798492</td>\n",
       "    </tr>\n",
       "    <tr>\n",
       "      <th>min</th>\n",
       "      <td>2.987000e+06</td>\n",
       "      <td>8.640000e+04</td>\n",
       "      <td>0.251000</td>\n",
       "      <td>100.000000</td>\n",
       "      <td>13.000000</td>\n",
       "      <td>0.000000</td>\n",
       "      <td>0.000000</td>\n",
       "    </tr>\n",
       "    <tr>\n",
       "      <th>25%</th>\n",
       "      <td>3.133317e+06</td>\n",
       "      <td>3.010651e+06</td>\n",
       "      <td>43.970000</td>\n",
       "      <td>204.000000</td>\n",
       "      <td>87.000000</td>\n",
       "      <td>3.000000</td>\n",
       "      <td>7.000000</td>\n",
       "    </tr>\n",
       "    <tr>\n",
       "      <th>50%</th>\n",
       "      <td>3.281808e+06</td>\n",
       "      <td>7.271678e+06</td>\n",
       "      <td>68.500000</td>\n",
       "      <td>299.000000</td>\n",
       "      <td>87.000000</td>\n",
       "      <td>8.000000</td>\n",
       "      <td>36.000000</td>\n",
       "    </tr>\n",
       "    <tr>\n",
       "      <th>75%</th>\n",
       "      <td>3.429974e+06</td>\n",
       "      <td>1.125334e+07</td>\n",
       "      <td>120.000000</td>\n",
       "      <td>330.000000</td>\n",
       "      <td>87.000000</td>\n",
       "      <td>24.000000</td>\n",
       "      <td>206.000000</td>\n",
       "    </tr>\n",
       "    <tr>\n",
       "      <th>max</th>\n",
       "      <td>3.577539e+06</td>\n",
       "      <td>1.581113e+07</td>\n",
       "      <td>31937.391000</td>\n",
       "      <td>540.000000</td>\n",
       "      <td>102.000000</td>\n",
       "      <td>10286.000000</td>\n",
       "      <td>11623.000000</td>\n",
       "    </tr>\n",
       "  </tbody>\n",
       "</table>\n",
       "</div>"
      ],
      "text/plain": [
       "       TransactionID  TransactionDT  TransactionAmt          addr1  \\\n",
       "count   5.698770e+05   5.698770e+05   569877.000000  511912.000000   \n",
       "mean    3.281810e+06   7.360791e+06      134.511665     290.643341   \n",
       "std     1.707548e+05   4.623930e+06      239.395078     101.692564   \n",
       "min     2.987000e+06   8.640000e+04        0.251000     100.000000   \n",
       "25%     3.133317e+06   3.010651e+06       43.970000     204.000000   \n",
       "50%     3.281808e+06   7.271678e+06       68.500000     299.000000   \n",
       "75%     3.429974e+06   1.125334e+07      120.000000     330.000000   \n",
       "max     3.577539e+06   1.581113e+07    31937.391000     540.000000   \n",
       "\n",
       "               addr2          dist1         dist2  \n",
       "count  511912.000000  233514.000000  33896.000000  \n",
       "mean       86.813620     117.360098    235.199758  \n",
       "std         2.607742     370.641879    536.798492  \n",
       "min        13.000000       0.000000      0.000000  \n",
       "25%        87.000000       3.000000      7.000000  \n",
       "50%        87.000000       8.000000     36.000000  \n",
       "75%        87.000000      24.000000    206.000000  \n",
       "max       102.000000   10286.000000  11623.000000  "
      ]
     },
     "execution_count": 12,
     "metadata": {},
     "output_type": "execute_result"
    }
   ],
   "source": [
    "trainset[trainset['isFraud'] == False][[\"TransactionID\",\"TransactionDT\",\"TransactionAmt\",\"addr1\",\"addr2\",\"dist1\",\"dist2\"]].describe()"
   ]
  },
  {
   "cell_type": "code",
   "execution_count": 13,
   "metadata": {},
   "outputs": [
    {
     "data": {
      "image/png": "[encoded data removed]",
      "text/plain": [
       "<Figure size 1728x288 with 4 Axes>"
      ]
     },
     "metadata": {
      "needs_background": "light"
     },
     "output_type": "display_data"
    }
   ],
   "source": [
    "fig, axes = plt.subplots(1, 4, figsize=(24, 4))\n",
    "\n",
    "for i, column in enumerate([\"DeviceType\",\"ProductCD\",\"card4\",\"card6\"]):\n",
    "    pd.crosstab(trainset[column], trainset.isFraud).plot(kind='bar', ax=axes[i])\n",
    "    axes[i].set_title(\"Distribution of \" + column, pad=20, fontweight='bold', fontsize=12)"
   ]
  },
  {
   "cell_type": "code",
   "execution_count": 14,
   "metadata": {},
   "outputs": [
    {
     "data": {
      "text/plain": [
       "isFraud  DeviceInfo                    \n",
       "False    Windows                           44601\n",
       "                                           22856\n",
       "         iOS Device                        18542\n",
       "         MacOS                             12295\n",
       "         Trident/7.0                        7344\n",
       "         rv:11.0                            1825\n",
       "         rv:57.0                             859\n",
       "         SM-J700M Build/MMB29K               489\n",
       "         SM-G610M Build/MMB29K               424\n",
       "         SM-G531H Build/LMY48B               377\n",
       "         rv:59.0                             318\n",
       "         SM-G532M Build/MMB29T               304\n",
       "         SM-G935F Build/NRD90M               303\n",
       "         SM-G955U Build/NRD90M               295\n",
       "         ALE-L23 Build/HuaweiALE-L23         283\n",
       "         SM-G930V Build/NRD90M               274\n",
       "         SM-G950U Build/NRD90M               274\n",
       "         rv:52.0                             244\n",
       "         SAMSUNG                             230\n",
       "         rv:58.0                             220\n",
       "         SM-N950U Build/NMF26X               196\n",
       "         SM-G950F Build/NRD90M               191\n",
       "         Moto G (4) Build/NPJ25.93-14.7      179\n",
       "         SM-G570M Build/MMB29K               179\n",
       "         rv:48.0                             176\n",
       "         SM-J730GM Build/NRD90M              157\n",
       "         CAM-L03 Build/HUAWEICAM-L03         150\n",
       "         LG-D693n Build/LRX22G               150\n",
       "         SM-A520F Build/NRD90M               144\n",
       "         SM-J510MN Build/MMB29M              141\n",
       "                                           ...  \n",
       "True     SAMSUNG SM-N900W8 Build/LRX21V        1\n",
       "         SAMSUNG-SM-T337A Build/LMY47X         1\n",
       "         SM-A310F Build/NRD90M                 1\n",
       "         SM-A310M Build/LMY47X                 1\n",
       "         SM-A710M                              1\n",
       "         SM-G900F Build/KOT49H                 1\n",
       "         SM-G928F                              1\n",
       "         SM-G935F Build/MMB29K                 1\n",
       "         SM-G935P Build/NRD90M                 1\n",
       "         SM-G955F Build/R16NW                  1\n",
       "         SM-J730G Build/NRD90M                 1\n",
       "         SM-N950U Build/R16NW                  1\n",
       "         SM-P550 Build/MMB29M                  1\n",
       "         SM-P550 Build/NMF26X                  1\n",
       "         SM-T285M                              1\n",
       "         SM-T530                               1\n",
       "         SM-T713 Build/NRD90M                  1\n",
       "         VS995 Build/NRD90M                    1\n",
       "         VTR-L09 Build/HUAWEIVTR-L09           1\n",
       "         XT1609 Build/NPIS26.48-38-3           1\n",
       "         Z                                     1\n",
       "         Z410                                  1\n",
       "         Z557BL                                1\n",
       "         Z983 Build/NMF26F                     1\n",
       "         ZTE-Z956                              1\n",
       "         iPhone                                1\n",
       "         rv:29.0                               1\n",
       "         rv:45.0                               1\n",
       "         rv:52.9                               1\n",
       "         rv:61.0                               1\n",
       "Name: DeviceInfo, Length: 2162, dtype: int64"
      ]
     },
     "execution_count": 14,
     "metadata": {},
     "output_type": "execute_result"
    }
   ],
   "source": [
    "trainset.groupby('isFraud')['DeviceInfo'].value_counts()"
   ]
  },
  {
   "cell_type": "markdown",
   "metadata": {},
   "source": [
    "Question 2\n",
    "----------"
   ]
  },
  {
   "cell_type": "code",
   "execution_count": 15,
   "metadata": {
    "colab": {},
    "colab_type": "code",
    "id": "NQNTYO5SQd1F"
   },
   "outputs": [],
   "source": [
    "most_freq_country_code = trainset['addr2'].value_counts().idxmax()\n",
    "addr2_set = trainset[trainset['addr2'] == most_freq_country_code]"
   ]
  },
  {
   "cell_type": "code",
   "execution_count": 16,
   "metadata": {
    "colab": {
     "base_uri": "https://localhost:8080/",
     "height": 119
    },
    "colab_type": "code",
    "id": "BgzWbOt5Xs1h",
    "outputId": "565c3f8e-a201-43ca-c9cf-e0b5c509ec86"
   },
   "outputs": [
    {
     "data": {
      "text/plain": [
       "67055    1528548\n",
       "67056    1528563\n",
       "67057    1528580\n",
       "67058    1528587\n",
       "67059    1528589\n",
       "Name: TransactionDT, dtype: int32"
      ]
     },
     "execution_count": 16,
     "metadata": {},
     "output_type": "execute_result"
    }
   ],
   "source": [
    "addr2_set['TransactionDT'][60000:60005]"
   ]
  },
  {
   "cell_type": "code",
   "execution_count": 17,
   "metadata": {
    "colab": {
     "base_uri": "https://localhost:8080/",
     "height": 224
    },
    "colab_type": "code",
    "id": "O2odB0OOd-uR",
    "outputId": "935491f6-6106-46b1-b169-5dd33e3fc469"
   },
   "outputs": [
    {
     "data": {
      "text/html": [
       "<div>\n",
       "<style scoped>\n",
       "    .dataframe tbody tr th:only-of-type {\n",
       "        vertical-align: middle;\n",
       "    }\n",
       "\n",
       "    .dataframe tbody tr th {\n",
       "        vertical-align: top;\n",
       "    }\n",
       "\n",
       "    .dataframe thead th {\n",
       "        text-align: right;\n",
       "    }\n",
       "</style>\n",
       "<table border=\"1\" class=\"dataframe\">\n",
       "  <thead>\n",
       "    <tr style=\"text-align: right;\">\n",
       "      <th></th>\n",
       "      <th>TransactionID</th>\n",
       "      <th>DeviceType</th>\n",
       "      <th>DeviceInfo</th>\n",
       "      <th>TransactionDT</th>\n",
       "      <th>TransactionAmt</th>\n",
       "      <th>ProductCD</th>\n",
       "      <th>card4</th>\n",
       "      <th>card6</th>\n",
       "      <th>P_emaildomain</th>\n",
       "      <th>R_emaildomain</th>\n",
       "      <th>addr1</th>\n",
       "      <th>addr2</th>\n",
       "      <th>dist1</th>\n",
       "      <th>dist2</th>\n",
       "      <th>isFraud</th>\n",
       "      <th>TransactionDT_day</th>\n",
       "      <th>TransactionDT_hour</th>\n",
       "      <th>TransactionDT_min</th>\n",
       "      <th>TransactionDT_sec</th>\n",
       "    </tr>\n",
       "  </thead>\n",
       "  <tbody>\n",
       "    <tr>\n",
       "      <th>67055</th>\n",
       "      <td>3054055</td>\n",
       "      <td>mobile</td>\n",
       "      <td>iOS Device</td>\n",
       "      <td>1528548</td>\n",
       "      <td>150.00</td>\n",
       "      <td>H</td>\n",
       "      <td>mastercard</td>\n",
       "      <td>credit</td>\n",
       "      <td>gmail.com</td>\n",
       "      <td>gmail.com</td>\n",
       "      <td>126.0</td>\n",
       "      <td>87.0</td>\n",
       "      <td>NaN</td>\n",
       "      <td>NaN</td>\n",
       "      <td>False</td>\n",
       "      <td>17</td>\n",
       "      <td>16</td>\n",
       "      <td>35</td>\n",
       "      <td>48</td>\n",
       "    </tr>\n",
       "    <tr>\n",
       "      <th>67056</th>\n",
       "      <td>3054056</td>\n",
       "      <td>NaN</td>\n",
       "      <td>NaN</td>\n",
       "      <td>1528563</td>\n",
       "      <td>107.95</td>\n",
       "      <td>W</td>\n",
       "      <td>discover</td>\n",
       "      <td>credit</td>\n",
       "      <td>hotmail.com</td>\n",
       "      <td></td>\n",
       "      <td>436.0</td>\n",
       "      <td>87.0</td>\n",
       "      <td>2.0</td>\n",
       "      <td>NaN</td>\n",
       "      <td>False</td>\n",
       "      <td>17</td>\n",
       "      <td>16</td>\n",
       "      <td>36</td>\n",
       "      <td>2</td>\n",
       "    </tr>\n",
       "    <tr>\n",
       "      <th>67057</th>\n",
       "      <td>3054057</td>\n",
       "      <td>NaN</td>\n",
       "      <td>NaN</td>\n",
       "      <td>1528580</td>\n",
       "      <td>94.95</td>\n",
       "      <td>W</td>\n",
       "      <td>mastercard</td>\n",
       "      <td>debit</td>\n",
       "      <td>aol.com</td>\n",
       "      <td></td>\n",
       "      <td>315.0</td>\n",
       "      <td>87.0</td>\n",
       "      <td>NaN</td>\n",
       "      <td>NaN</td>\n",
       "      <td>False</td>\n",
       "      <td>17</td>\n",
       "      <td>16</td>\n",
       "      <td>36</td>\n",
       "      <td>19</td>\n",
       "    </tr>\n",
       "    <tr>\n",
       "      <th>67058</th>\n",
       "      <td>3054058</td>\n",
       "      <td>NaN</td>\n",
       "      <td>NaN</td>\n",
       "      <td>1528587</td>\n",
       "      <td>29.00</td>\n",
       "      <td>W</td>\n",
       "      <td>mastercard</td>\n",
       "      <td>debit</td>\n",
       "      <td>gmail.com</td>\n",
       "      <td></td>\n",
       "      <td>269.0</td>\n",
       "      <td>87.0</td>\n",
       "      <td>1.0</td>\n",
       "      <td>NaN</td>\n",
       "      <td>False</td>\n",
       "      <td>17</td>\n",
       "      <td>16</td>\n",
       "      <td>36</td>\n",
       "      <td>26</td>\n",
       "    </tr>\n",
       "    <tr>\n",
       "      <th>67059</th>\n",
       "      <td>3054059</td>\n",
       "      <td>NaN</td>\n",
       "      <td>NaN</td>\n",
       "      <td>1528589</td>\n",
       "      <td>261.95</td>\n",
       "      <td>W</td>\n",
       "      <td>mastercard</td>\n",
       "      <td>debit</td>\n",
       "      <td>verizon.net</td>\n",
       "      <td></td>\n",
       "      <td>494.0</td>\n",
       "      <td>87.0</td>\n",
       "      <td>1.0</td>\n",
       "      <td>NaN</td>\n",
       "      <td>False</td>\n",
       "      <td>17</td>\n",
       "      <td>16</td>\n",
       "      <td>36</td>\n",
       "      <td>28</td>\n",
       "    </tr>\n",
       "  </tbody>\n",
       "</table>\n",
       "</div>"
      ],
      "text/plain": [
       "       TransactionID DeviceType  DeviceInfo  TransactionDT  TransactionAmt  \\\n",
       "67055        3054055     mobile  iOS Device        1528548          150.00   \n",
       "67056        3054056        NaN         NaN        1528563          107.95   \n",
       "67057        3054057        NaN         NaN        1528580           94.95   \n",
       "67058        3054058        NaN         NaN        1528587           29.00   \n",
       "67059        3054059        NaN         NaN        1528589          261.95   \n",
       "\n",
       "      ProductCD       card4   card6 P_emaildomain R_emaildomain  addr1  addr2  \\\n",
       "67055         H  mastercard  credit     gmail.com     gmail.com  126.0   87.0   \n",
       "67056         W    discover  credit   hotmail.com                436.0   87.0   \n",
       "67057         W  mastercard   debit       aol.com                315.0   87.0   \n",
       "67058         W  mastercard   debit     gmail.com                269.0   87.0   \n",
       "67059         W  mastercard   debit   verizon.net                494.0   87.0   \n",
       "\n",
       "       dist1  dist2  isFraud  TransactionDT_day  TransactionDT_hour  \\\n",
       "67055    NaN    NaN    False                 17                  16   \n",
       "67056    2.0    NaN    False                 17                  16   \n",
       "67057    NaN    NaN    False                 17                  16   \n",
       "67058    1.0    NaN    False                 17                  16   \n",
       "67059    1.0    NaN    False                 17                  16   \n",
       "\n",
       "       TransactionDT_min  TransactionDT_sec  \n",
       "67055                 35                 48  \n",
       "67056                 36                  2  \n",
       "67057                 36                 19  \n",
       "67058                 36                 26  \n",
       "67059                 36                 28  "
      ]
     },
     "execution_count": 17,
     "metadata": {},
     "output_type": "execute_result"
    }
   ],
   "source": [
    "addr2_set.iloc[60000:60005]"
   ]
  },
  {
   "cell_type": "code",
   "execution_count": 18,
   "metadata": {
    "colab": {
     "base_uri": "https://localhost:8080/",
     "height": 563
    },
    "colab_type": "code",
    "id": "NrlbzDqngrfG",
    "outputId": "cc9b0ff6-f812-46cc-b0bf-f15f9467fe93"
   },
   "outputs": [
    {
     "data": {
      "text/plain": [
       "Text(0, 0.5, 'Number of Transactions')"
      ]
     },
     "execution_count": 18,
     "metadata": {},
     "output_type": "execute_result"
    },
    {
     "data": {
      "image/png": "[encoded data removed]",
      "text/plain": [
       "<Figure size 576x432 with 1 Axes>"
      ]
     },
     "metadata": {
      "needs_background": "light"
     },
     "output_type": "display_data"
    }
   ],
   "source": [
    "hist1 = addr2_set['TransactionDT_hour'].hist(bins=24, grid=False, figsize=(8,6), color='#86bf91', zorder=2, rwidth=0.9)\n",
    "hist1.axvline(addr2_set['TransactionDT_hour'].mean(), color='k', linestyle='dashed', linewidth=1)\n",
    "\n",
    "hist1.set_title(\"Distribution of transactions by time of day for country with most frequent country code\", pad=20, fontweight='bold', fontsize=12)\n",
    "\n",
    "hist1.set_xlabel(\"Hour of day (24 hr format)\", labelpad=20, weight='bold', size=12)\n",
    "hist1.set_ylabel(\"Number of Transactions\", labelpad=20, weight='bold', size=12)"
   ]
  },
  {
   "cell_type": "markdown",
   "metadata": {},
   "source": [
    "Question 3\n",
    "----------"
   ]
  },
  {
   "cell_type": "code",
   "execution_count": 19,
   "metadata": {},
   "outputs": [
    {
     "data": {
      "text/plain": [
       "<matplotlib.axes._subplots.AxesSubplot at 0x7f799680ebe0>"
      ]
     },
     "execution_count": 19,
     "metadata": {},
     "output_type": "execute_result"
    },
    {
     "data": {
      "image/png": "[encoded data removed]",
      "text/plain": [
       "<Figure size 1728x288 with 4 Axes>"
      ]
     },
     "metadata": {
      "needs_background": "light"
     },
     "output_type": "display_data"
    }
   ],
   "source": [
    "fig, axes = plt.subplots(1, 4, figsize=(24, 4))\n",
    "trainset[['ProductCD', 'TransactionAmt']].groupby(['ProductCD']).agg([np.mean, np.median, np.std]).plot(ax=axes[0])\n",
    "\n",
    "trainset[['ProductCD', 'TransactionAmt']].groupby(['ProductCD']).agg([min]).plot(ax=axes[1])\n",
    "\n",
    "trainset[['ProductCD', 'TransactionAmt']].groupby(['ProductCD']).agg([max]).plot(ax=axes[2])\n",
    "\n",
    "trainset[['ProductCD', 'TransactionAmt']].groupby(['ProductCD']).count().plot(ax=axes[3])"
   ]
  },
  {
   "cell_type": "markdown",
   "metadata": {},
   "source": [
    "Question 4\n",
    "----------"
   ]
  },
  {
   "cell_type": "code",
   "execution_count": 20,
   "metadata": {},
   "outputs": [
    {
     "data": {
      "text/plain": [
       "<matplotlib.axes._subplots.AxesSubplot at 0x7f7975c95550>"
      ]
     },
     "execution_count": 20,
     "metadata": {},
     "output_type": "execute_result"
    },
    {
     "data": {
      "image/png": "[encoded data removed]",
      "text/plain": [
       "<Figure size 432x288 with 2 Axes>"
      ]
     },
     "metadata": {
      "needs_background": "light"
     },
     "output_type": "display_data"
    }
   ],
   "source": [
    "sns.heatmap(trainset[['TransactionDT_hour', 'TransactionAmt']].corr(), vmin=-1, vmax=1, cmap='seismic', linewidths=0.2, annot=True)"
   ]
  },
  {
   "cell_type": "code",
   "execution_count": 21,
   "metadata": {},
   "outputs": [
    {
     "data": {
      "text/plain": [
       "<matplotlib.axes._subplots.AxesSubplot at 0x7f7995facd30>"
      ]
     },
     "execution_count": 21,
     "metadata": {},
     "output_type": "execute_result"
    },
    {
     "data": {
      "image/png": "[encoded data removed]",
      "text/plain": [
       "<Figure size 432x288 with 1 Axes>"
      ]
     },
     "metadata": {
      "needs_background": "light"
     },
     "output_type": "display_data"
    }
   ],
   "source": [
    "trainset[['TransactionDT_hour', 'TransactionAmt']].groupby(['TransactionDT_hour']).median().plot()"
   ]
  },
  {
   "cell_type": "code",
   "execution_count": 22,
   "metadata": {},
   "outputs": [
    {
     "data": {
      "text/plain": [
       "array([[<matplotlib.axes._subplots.AxesSubplot object at 0x7f7995f82ba8>]],\n",
       "      dtype=object)"
      ]
     },
     "execution_count": 22,
     "metadata": {},
     "output_type": "execute_result"
    },
    {
     "data": {
      "image/png": "[encoded data removed]",
      "text/plain": [
       "<Figure size 432x288 with 1 Axes>"
      ]
     },
     "metadata": {
      "needs_background": "light"
     },
     "output_type": "display_data"
    }
   ],
   "source": [
    "trainset[['TransactionDT_hour']].hist(bins=24)"
   ]
  },
  {
   "cell_type": "code",
   "execution_count": 23,
   "metadata": {},
   "outputs": [
    {
     "data": {
      "text/plain": [
       "array([[<matplotlib.axes._subplots.AxesSubplot object at 0x7f79742b4c18>]],\n",
       "      dtype=object)"
      ]
     },
     "execution_count": 23,
     "metadata": {},
     "output_type": "execute_result"
    },
    {
     "data": {
      "image/png": "[encoded data removed]",
      "text/plain": [
       "<Figure size 432x288 with 1 Axes>"
      ]
     },
     "metadata": {
      "needs_background": "light"
     },
     "output_type": "display_data"
    }
   ],
   "source": [
    "trainset[['TransactionAmt']].hist()"
   ]
  },
  {
   "cell_type": "code",
   "execution_count": 24,
   "metadata": {},
   "outputs": [
    {
     "data": {
      "text/plain": [
       "<matplotlib.axes._subplots.AxesSubplot at 0x7f7995e69cf8>"
      ]
     },
     "execution_count": 24,
     "metadata": {},
     "output_type": "execute_result"
    },
    {
     "data": {
      "image/png": "[encoded data removed]",
      "text/plain": [
       "<Figure size 432x288 with 1 Axes>"
      ]
     },
     "metadata": {
      "needs_background": "light"
     },
     "output_type": "display_data"
    }
   ],
   "source": [
    "np.log(trainset['TransactionAmt']).hist()"
   ]
  },
  {
   "cell_type": "code",
   "execution_count": 25,
   "metadata": {},
   "outputs": [
    {
     "data": {
      "text/plain": [
       "<matplotlib.axes._subplots.AxesSubplot at 0x7f7995d69080>"
      ]
     },
     "execution_count": 25,
     "metadata": {},
     "output_type": "execute_result"
    },
    {
     "data": {
      "image/png": "[encoded data removed]",
      "text/plain": [
       "<Figure size 432x288 with 1 Axes>"
      ]
     },
     "metadata": {
      "needs_background": "light"
     },
     "output_type": "display_data"
    }
   ],
   "source": [
    "np.log(1 + trainset['TransactionDT_hour']).hist()"
   ]
  },
  {
   "cell_type": "markdown",
   "metadata": {},
   "source": [
    "Question 5\n",
    "----------"
   ]
  },
  {
   "cell_type": "code",
   "execution_count": 26,
   "metadata": {},
   "outputs": [
    {
     "data": {
      "text/plain": [
       "<matplotlib.axes._subplots.AxesSubplot at 0x7f7996691c88>"
      ]
     },
     "execution_count": 26,
     "metadata": {},
     "output_type": "execute_result"
    },
    {
     "data": {
      "image/png": "[encoded data removed]",
      "text/plain": [
       "<Figure size 432x288 with 1 Axes>"
      ]
     },
     "metadata": {
      "needs_background": "light"
     },
     "output_type": "display_data"
    }
   ],
   "source": [
    "(trainset[trainset['isFraud'] == True]['card4'].value_counts()/trainset['card4'].value_counts()).plot(kind='bar', color='#86bf91')"
   ]
  },
  {
   "cell_type": "code",
   "execution_count": 27,
   "metadata": {},
   "outputs": [
    {
     "data": {
      "text/plain": [
       "0.03499000914417313"
      ]
     },
     "execution_count": 27,
     "metadata": {},
     "output_type": "execute_result"
    }
   ],
   "source": [
    "trainset[trainset['isFraud'] == True].shape[0]/trainset.shape[0]"
   ]
  },
  {
   "cell_type": "code",
   "execution_count": 28,
   "metadata": {},
   "outputs": [
    {
     "data": {
      "text/plain": [
       "<matplotlib.axes._subplots.AxesSubplot at 0x7f79960289e8>"
      ]
     },
     "execution_count": 28,
     "metadata": {},
     "output_type": "execute_result"
    },
    {
     "data": {
      "image/png": "[encoded data removed]",
      "text/plain": [
       "<Figure size 432x288 with 1 Axes>"
      ]
     },
     "metadata": {
      "needs_background": "light"
     },
     "output_type": "display_data"
    }
   ],
   "source": [
    "trainset[trainset['isFraud'] == True]['card4'].value_counts().plot(kind='bar', color='#86bf91')"
   ]
  },
  {
   "cell_type": "code",
   "execution_count": 29,
   "metadata": {},
   "outputs": [
    {
     "data": {
      "text/plain": [
       "<matplotlib.axes._subplots.AxesSubplot at 0x7f79960af1d0>"
      ]
     },
     "execution_count": 29,
     "metadata": {},
     "output_type": "execute_result"
    },
    {
     "data": {
      "image/png": "[encoded data removed]",
      "text/plain": [
       "<Figure size 432x288 with 1 Axes>"
      ]
     },
     "metadata": {
      "needs_background": "light"
     },
     "output_type": "display_data"
    }
   ],
   "source": [
    "(trainset[trainset['isFraud'] == True]['card6'].value_counts()/trainset['card6'].value_counts()).plot(kind='bar', color='#86bf91')"
   ]
  },
  {
   "cell_type": "code",
   "execution_count": 30,
   "metadata": {},
   "outputs": [
    {
     "data": {
      "text/plain": [
       "<matplotlib.axes._subplots.AxesSubplot at 0x7f7996044e48>"
      ]
     },
     "execution_count": 30,
     "metadata": {},
     "output_type": "execute_result"
    },
    {
     "data": {
      "image/png": "[encoded data removed]",
      "text/plain": [
       "<Figure size 432x288 with 1 Axes>"
      ]
     },
     "metadata": {
      "needs_background": "light"
     },
     "output_type": "display_data"
    }
   ],
   "source": [
    "trainset[trainset['isFraud'] == True]['card6'].value_counts().plot(kind='bar', color='#86bf91')"
   ]
  },
  {
   "cell_type": "markdown",
   "metadata": {},
   "source": [
    "Question 6\n",
    "----------"
   ]
  },
  {
   "cell_type": "markdown",
   "metadata": {},
   "source": [
    "### Data Cleaning"
   ]
  },
  {
   "cell_type": "code",
   "execution_count": 31,
   "metadata": {},
   "outputs": [],
   "source": [
    "# Create a copy of trainset for easy resetting\n",
    "dataset = trainset.copy()"
   ]
  },
  {
   "cell_type": "code",
   "execution_count": 32,
   "metadata": {},
   "outputs": [],
   "source": [
    "# Replace columns that have empty value with 'unknown' value\n",
    "cols = ['card4', 'card6', 'DeviceType', 'DeviceInfo', 'P_emaildomain', 'R_emaildomain']\n",
    "dataset[cols] = dataset[cols].replace({'': 'unknown'})"
   ]
  },
  {
   "cell_type": "code",
   "execution_count": 33,
   "metadata": {},
   "outputs": [],
   "source": [
    "# Keep the top 5 column values and group remaining ones into 'Others'\n",
    "top5_deviceinfo = set(dataset['DeviceInfo'].value_counts()[:5].index)\n",
    "dataset['DeviceInfo'] = dataset['DeviceInfo'].apply(lambda x: x if x in top5_deviceinfo else 'Others')"
   ]
  },
  {
   "cell_type": "code",
   "execution_count": 34,
   "metadata": {},
   "outputs": [],
   "source": [
    "# Group categories that are similar into one category [4]\n",
    "regex_patterns = {\n",
    "    r'^frontier.*$': 'frontier.com',\n",
    "    r'^gmail.*$': 'gmail.com',\n",
    "    r'^hotmail.*$': 'hotmail.com',\n",
    "    r'^live.*$': 'live.com',\n",
    "    r'^netzero.*$': 'netzero.com',\n",
    "    r'^outlook.*$': 'outlook.com',\n",
    "    r'^yahoo.*$': 'yahoo.com'\n",
    "}\n",
    "replacements = {\n",
    "    'P_emaildomain': regex_patterns,\n",
    "    'R_emaildomain': regex_patterns\n",
    "}\n",
    "\n",
    "dataset.replace(replacements, regex=True, inplace=True)"
   ]
  },
  {
   "cell_type": "markdown",
   "metadata": {},
   "source": [
    "### Preprocessing\n",
    "Use sine and cosine for time of the day as these are [$cyclical features^{[3]}$](#References)"
   ]
  },
  {
   "cell_type": "code",
   "execution_count": 42,
   "metadata": {},
   "outputs": [],
   "source": [
    "dataset['hr_sin'] = np.sin((dataset['TransactionDT_hour'] + dataset['TransactionDT_min']/60.0)*(np.pi/12.0))\n",
    "dataset['hr_cos'] = np.cos((dataset['TransactionDT_hour'] + dataset['TransactionDT_min']/60.0)*(np.pi/12.0))\n",
    "dataset['TransactionAmt_lg'] = np.log(dataset['TransactionAmt'])\n",
    "\n",
    "from sklearn.preprocessing import RobustScaler\n",
    "\n",
    "rob_scaler = RobustScaler()\n",
    "dataset['TransactionAmt_scaled'] = rob_scaler.fit_transform(dataset['TransactionAmt'].values.reshape(-1,1))"
   ]
  },
  {
   "cell_type": "code",
   "execution_count": 44,
   "metadata": {},
   "outputs": [
    {
     "data": {
      "text/plain": [
       "<matplotlib.axes._subplots.AxesSubplot at 0x7f798d524828>"
      ]
     },
     "execution_count": 44,
     "metadata": {},
     "output_type": "execute_result"
    },
    {
     "data": {
      "image/png": "[encoded data removed]",
      "text/plain": [
       "<Figure size 432x288 with 2 Axes>"
      ]
     },
     "metadata": {
      "needs_background": "light"
     },
     "output_type": "display_data"
    }
   ],
   "source": [
    "sns.heatmap(dataset[['TransactionAmt_scaled', 'hr_sin', 'hr_cos', 'isFraud']].corr(), vmin=-1, vmax=1, cmap='seismic', linewidths=0.2, annot=True)"
   ]
  },
  {
   "cell_type": "code",
   "execution_count": 37,
   "metadata": {},
   "outputs": [],
   "source": [
    "categorical_cols = ['DeviceType', 'ProductCD', 'card4', 'card6', 'P_emaildomain', 'R_emaildomain']\n",
    "ohe = pd.get_dummies(dataset[categorical_cols])\n",
    "dataset = dataset.join(ohe)"
   ]
  },
  {
   "cell_type": "code",
   "execution_count": 38,
   "metadata": {},
   "outputs": [],
   "source": [
    "from sklearn.linear_model import LogisticRegression, LinearRegression\n",
    "from sklearn.model_selection import train_test_split\n",
    "from sklearn import metrics\n",
    "import joblib"
   ]
  },
  {
   "cell_type": "code",
   "execution_count": 45,
   "metadata": {},
   "outputs": [],
   "source": [
    "train_cols = [\"TransactionAmt_scaled\",\"hr_sin\",\"hr_cos\"] + list(ohe.columns)\n",
    "X, y = dataset[train_cols], dataset['isFraud']"
   ]
  },
  {
   "cell_type": "code",
   "execution_count": 63,
   "metadata": {},
   "outputs": [],
   "source": [
    "from imblearn.under_sampling import RandomUnderSampler\n",
    "sampler = RandomUnderSampler(random_state=0, sampling_strategy=1.0)\n",
    "\n",
    "X_resampled, y_resampled = sampler.fit_resample(X, y)\n",
    "\n",
    "X_train, X_test, y_train, y_test = train_test_split(X_resampled, y_resampled, test_size=0.2)"
   ]
  },
  {
   "cell_type": "code",
   "execution_count": 66,
   "metadata": {},
   "outputs": [],
   "source": [
    "from imblearn.over_sampling import SMOTE\n",
    "sampler = SMOTE(random_state=0, sampling_strategy=1.0)\n",
    "\n",
    "X_resampled, y_resampled = sampler.fit_resample(X, y)\n",
    "\n",
    "X_train, X_test, y_train, y_test = train_test_split(X_resampled, y_resampled, test_size=0.2)"
   ]
  },
  {
   "cell_type": "code",
   "execution_count": 46,
   "metadata": {},
   "outputs": [
    {
     "name": "stdout",
     "output_type": "stream",
     "text": [
      "              precision    recall  f1-score   support\n",
      "\n",
      "       False       0.67      0.76      0.71      4174\n",
      "        True       0.71      0.62      0.66      4092\n",
      "\n",
      "    accuracy                           0.69      8266\n",
      "   macro avg       0.69      0.69      0.69      8266\n",
      "weighted avg       0.69      0.69      0.69      8266\n",
      "\n"
     ]
    }
   ],
   "source": [
    "clf = LogisticRegression(solver='lbfgs', max_iter=4000)\n",
    "clf.fit(X_train, y_train)\n",
    "\n",
    "preds = clf.predict(X_test)\n",
    "\n",
    "print(metrics.classification_report(y_test, preds))"
   ]
  },
  {
   "cell_type": "code",
   "execution_count": 47,
   "metadata": {},
   "outputs": [
    {
     "name": "stdout",
     "output_type": "stream",
     "text": [
      "              precision    recall  f1-score   support\n",
      "\n",
      "       False       0.68      0.77      0.72    114288\n",
      "        True       0.73      0.63      0.68    113663\n",
      "\n",
      "    accuracy                           0.70    227951\n",
      "   macro avg       0.70      0.70      0.70    227951\n",
      "weighted avg       0.70      0.70      0.70    227951\n",
      "\n"
     ]
    }
   ],
   "source": [
    "clf = LogisticRegression(solver='lbfgs', max_iter=4000)\n",
    "clf.fit(X_train, y_train)\n",
    "\n",
    "preds = clf.predict(X_test)\n",
    "\n",
    "print(metrics.classification_report(y_test, preds))"
   ]
  },
  {
   "cell_type": "code",
   "execution_count": 54,
   "metadata": {},
   "outputs": [
    {
     "name": "stdout",
     "output_type": "stream",
     "text": [
      "              precision    recall  f1-score   support\n",
      "\n",
      "       False       0.66      0.79      0.72      4099\n",
      "        True       0.75      0.61      0.67      4167\n",
      "\n",
      "    accuracy                           0.70      8266\n",
      "   macro avg       0.71      0.70      0.70      8266\n",
      "weighted avg       0.71      0.70      0.70      8266\n",
      "\n"
     ]
    }
   ],
   "source": [
    "from sklearn.feature_extraction.text import CountVectorizer\n",
    "from sklearn.svm import LinearSVC\n",
    "\n",
    "clf = LinearSVC(dual=False)\n",
    "clf.fit(X_train, y_train.ravel())\n",
    "\n",
    "preds = clf.predict(X_test)\n",
    "\n",
    "print(metrics.classification_report(y_test, preds))"
   ]
  },
  {
   "cell_type": "code",
   "execution_count": 64,
   "metadata": {},
   "outputs": [
    {
     "name": "stdout",
     "output_type": "stream",
     "text": [
      "              precision    recall  f1-score   support\n",
      "\n",
      "       False       0.68      0.79      0.73      4106\n",
      "        True       0.75      0.64      0.69      4160\n",
      "\n",
      "    accuracy                           0.71      8266\n",
      "   macro avg       0.72      0.71      0.71      8266\n",
      "weighted avg       0.72      0.71      0.71      8266\n",
      "\n"
     ]
    }
   ],
   "source": [
    "from xgboost import XGBClassifier\n",
    "\n",
    "clf = XGBClassifier()\n",
    "clf.fit(X_train, y_train)\n",
    "\n",
    "preds = clf.predict(X_test)\n",
    "\n",
    "print(metrics.classification_report(y_test, preds))"
   ]
  },
  {
   "cell_type": "code",
   "execution_count": 68,
   "metadata": {},
   "outputs": [
    {
     "name": "stdout",
     "output_type": "stream",
     "text": [
      "              precision    recall  f1-score   support\n",
      "\n",
      "       False       0.69      0.79      0.74    113896\n",
      "        True       0.76      0.65      0.70    114055\n",
      "\n",
      "    accuracy                           0.72    227951\n",
      "   macro avg       0.73      0.72      0.72    227951\n",
      "weighted avg       0.73      0.72      0.72    227951\n",
      "\n"
     ]
    }
   ],
   "source": [
    "from xgboost import XGBClassifier\n",
    "\n",
    "clf = XGBClassifier(nthread = -1)\n",
    "clf.fit(X_train, y_train)\n",
    "\n",
    "preds = clf.predict(X_test)\n",
    "\n",
    "print(metrics.classification_report(y_test, preds))"
   ]
  },
  {
   "cell_type": "code",
   "execution_count": 69,
   "metadata": {},
   "outputs": [
    {
     "data": {
      "text/plain": [
       "['rs_smote_xgb.pkl']"
      ]
     },
     "execution_count": 69,
     "metadata": {},
     "output_type": "execute_result"
    }
   ],
   "source": [
    "joblib.dump(clf, 'rs_smote_xgb.pkl')"
   ]
  },
  {
   "cell_type": "code",
   "execution_count": 70,
   "metadata": {},
   "outputs": [
    {
     "data": {
      "text/plain": [
       "['TransactionAmt_scaled',\n",
       " 'hr_sin',\n",
       " 'hr_cos',\n",
       " 'DeviceType_desktop',\n",
       " 'DeviceType_mobile',\n",
       " 'DeviceType_unknown',\n",
       " 'ProductCD_C',\n",
       " 'ProductCD_H',\n",
       " 'ProductCD_R',\n",
       " 'ProductCD_S',\n",
       " 'ProductCD_W',\n",
       " 'card4_american express',\n",
       " 'card4_discover',\n",
       " 'card4_mastercard',\n",
       " 'card4_unknown',\n",
       " 'card4_visa',\n",
       " 'card6_charge card',\n",
       " 'card6_credit',\n",
       " 'card6_debit',\n",
       " 'card6_debit or credit',\n",
       " 'card6_unknown',\n",
       " 'P_emaildomain_aim.com',\n",
       " 'P_emaildomain_anonymous.com',\n",
       " 'P_emaildomain_aol.com',\n",
       " 'P_emaildomain_att.net',\n",
       " 'P_emaildomain_bellsouth.net',\n",
       " 'P_emaildomain_cableone.net',\n",
       " 'P_emaildomain_centurylink.net',\n",
       " 'P_emaildomain_cfl.rr.com',\n",
       " 'P_emaildomain_charter.net',\n",
       " 'P_emaildomain_comcast.net',\n",
       " 'P_emaildomain_cox.net',\n",
       " 'P_emaildomain_earthlink.net',\n",
       " 'P_emaildomain_embarqmail.com',\n",
       " 'P_emaildomain_frontier.com',\n",
       " 'P_emaildomain_gmail.com',\n",
       " 'P_emaildomain_gmx.de',\n",
       " 'P_emaildomain_hotmail.com',\n",
       " 'P_emaildomain_icloud.com',\n",
       " 'P_emaildomain_juno.com',\n",
       " 'P_emaildomain_live.com',\n",
       " 'P_emaildomain_mac.com',\n",
       " 'P_emaildomain_mail.com',\n",
       " 'P_emaildomain_me.com',\n",
       " 'P_emaildomain_msn.com',\n",
       " 'P_emaildomain_netzero.com',\n",
       " 'P_emaildomain_optonline.net',\n",
       " 'P_emaildomain_outlook.com',\n",
       " 'P_emaildomain_prodigy.net.mx',\n",
       " 'P_emaildomain_protonmail.com',\n",
       " 'P_emaildomain_ptd.net',\n",
       " 'P_emaildomain_q.com',\n",
       " 'P_emaildomain_roadrunner.com',\n",
       " 'P_emaildomain_rocketmail.com',\n",
       " 'P_emaildomain_sbcglobal.net',\n",
       " 'P_emaildomain_sc.rr.com',\n",
       " 'P_emaildomain_servicios-ta.com',\n",
       " 'P_emaildomain_suddenlink.net',\n",
       " 'P_emaildomain_twc.com',\n",
       " 'P_emaildomain_unknown',\n",
       " 'P_emaildomain_verizon.net',\n",
       " 'P_emaildomain_web.de',\n",
       " 'P_emaildomain_windstream.net',\n",
       " 'P_emaildomain_yahoo.com',\n",
       " 'P_emaildomain_ymail.com',\n",
       " 'R_emaildomain_aim.com',\n",
       " 'R_emaildomain_anonymous.com',\n",
       " 'R_emaildomain_aol.com',\n",
       " 'R_emaildomain_att.net',\n",
       " 'R_emaildomain_bellsouth.net',\n",
       " 'R_emaildomain_cableone.net',\n",
       " 'R_emaildomain_centurylink.net',\n",
       " 'R_emaildomain_cfl.rr.com',\n",
       " 'R_emaildomain_charter.net',\n",
       " 'R_emaildomain_comcast.net',\n",
       " 'R_emaildomain_cox.net',\n",
       " 'R_emaildomain_earthlink.net',\n",
       " 'R_emaildomain_embarqmail.com',\n",
       " 'R_emaildomain_frontier.com',\n",
       " 'R_emaildomain_gmail.com',\n",
       " 'R_emaildomain_gmx.de',\n",
       " 'R_emaildomain_hotmail.com',\n",
       " 'R_emaildomain_icloud.com',\n",
       " 'R_emaildomain_juno.com',\n",
       " 'R_emaildomain_live.com',\n",
       " 'R_emaildomain_mac.com',\n",
       " 'R_emaildomain_mail.com',\n",
       " 'R_emaildomain_me.com',\n",
       " 'R_emaildomain_msn.com',\n",
       " 'R_emaildomain_netzero.com',\n",
       " 'R_emaildomain_optonline.net',\n",
       " 'R_emaildomain_outlook.com',\n",
       " 'R_emaildomain_prodigy.net.mx',\n",
       " 'R_emaildomain_protonmail.com',\n",
       " 'R_emaildomain_ptd.net',\n",
       " 'R_emaildomain_q.com',\n",
       " 'R_emaildomain_roadrunner.com',\n",
       " 'R_emaildomain_rocketmail.com',\n",
       " 'R_emaildomain_sbcglobal.net',\n",
       " 'R_emaildomain_sc.rr.com',\n",
       " 'R_emaildomain_scranton.edu',\n",
       " 'R_emaildomain_servicios-ta.com',\n",
       " 'R_emaildomain_suddenlink.net',\n",
       " 'R_emaildomain_twc.com',\n",
       " 'R_emaildomain_unknown',\n",
       " 'R_emaildomain_verizon.net',\n",
       " 'R_emaildomain_web.de',\n",
       " 'R_emaildomain_windstream.net',\n",
       " 'R_emaildomain_yahoo.com',\n",
       " 'R_emaildomain_ymail.com']"
      ]
     },
     "execution_count": 70,
     "metadata": {},
     "output_type": "execute_result"
    }
   ],
   "source": [
    "train_cols"
   ]
  },
  {
   "cell_type": "markdown",
   "metadata": {},
   "source": [
    "References\n",
    "----------\n",
    "\n",
    "1. histograms - https://mode.com/example-gallery/python_histogram/  \n",
    "1. logistic regression - https://towardsdatascience.com/building-a-logistic-regression-in-python-step-by-step-becd4d56c9c8  \n",
    "1. cyclical features - http://blog.davidkaleko.com/feature-engineering-cyclical-features.html  \n",
    "1. data cleaning - https://docs.google.com/presentation/d/12Oqzl6aqFtCncrZlUO-82prtiofQt46q-79gzb_nTEA/edit#slide=id.g1187521ab4_0_125\n",
    "1. undersampling - https://towardsdatascience.com/sampling-techniques-for-extremely-imbalanced-data-part-i-under-sampling-a8dbc3d8d6d8\n",
    "1. oversampling - https://towardsdatascience.com/sampling-techniques-for-extremely-imbalanced-data-part-ii-over-sampling-d61b43bc4879\n",
    "1. saving a model - https://machinelearningmastery.com/save-load-machine-learning-models-python-scikit-learn/"
   ]
  },
  {
   "cell_type": "code",
   "execution_count": null,
   "metadata": {},
   "outputs": [],
   "source": []
  }
 ],
 "metadata": {
  "celltests": {},
  "colab": {
   "collapsed_sections": [],
   "name": "cse519_hw2_playground.ipynb",
   "provenance": [],
   "version": "0.3.2"
  },
  "kernelspec": {
   "display_name": "Python 3",
   "language": "python",
   "name": "python3"
  },
  "language_info": {
   "codemirror_mode": {
    "name": "ipython",
    "version": 3
   },
   "file_extension": ".py",
   "mimetype": "text/x-python",
   "name": "python",
   "nbconvert_exporter": "python",
   "pygments_lexer": "ipython3",
   "version": "3.7.3"
  }
 },
 "nbformat": 4,
 "nbformat_minor": 4
}
