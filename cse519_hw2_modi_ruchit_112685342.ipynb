{
 "cells": [
  {
   "cell_type": "markdown",
   "metadata": {},
   "source": [
    "# Homework 2 - IEEE Fraud Detection"
   ]
  },
  {
   "cell_type": "markdown",
   "metadata": {},
   "source": [
    "For all parts below, answer all parts as shown in the Google document for Homework 2. Be sure to include both code that justifies your answer as well as text to answer the questions. We also ask that code be commented to make it easier to follow."
   ]
  },
  {
   "cell_type": "code",
   "execution_count": null,
   "metadata": {},
   "outputs": [],
   "source": [
    "# Imports\n",
    "import pandas as pd\n",
    "import numpy as np\n",
    "import matplotlib as mpl\n",
    "import matplotlib.pyplot as plt\n",
    "import seaborn as sns\n",
    "import datatable as dt\n",
    "import joblib"
   ]
  },
  {
   "cell_type": "code",
   "execution_count": null,
   "metadata": {},
   "outputs": [],
   "source": [
    "# Load training data\n",
    "train_transaction =  dt.fread(\"dataset/train_transaction.csv\").to_pandas()\n",
    "train_identity = dt.fread(\"dataset/train_identity.csv\").to_pandas()"
   ]
  },
  {
   "cell_type": "code",
   "execution_count": 4,
   "metadata": {
    "colab": {},
    "colab_type": "code",
    "id": "0R_HOvzCzsNu"
   },
   "outputs": [],
   "source": [
    "# Merge the two files into one training set\n",
    "trainset = pd.merge(train_transaction, train_identity, on='TransactionID', how='outer')\n",
    "%reset_selective -f train_transaction\n",
    "%reset_selective -f train_identity"
   ]
  },
  {
   "cell_type": "code",
   "execution_count": 5,
   "metadata": {
    "colab": {},
    "colab_type": "code",
    "id": "8vmc3RK-HxfK"
   },
   "outputs": [],
   "source": [
    "# Use only selective columns\n",
    "trainset = trainset[[\"TransactionID\",\"DeviceType\",\"DeviceInfo\",\"TransactionDT\",\"TransactionAmt\",\"ProductCD\",\"card4\",\"card6\",\"P_emaildomain\",\"R_emaildomain\",\"addr1\",\"addr2\",\"dist1\",\"dist2\",\"isFraud\"]]"
   ]
  },
  {
   "cell_type": "code",
   "execution_count": null,
   "metadata": {},
   "outputs": [],
   "source": [
    "# Convert date time field into meaningful fields\n",
    "trainset['TransactionDT_day'] = trainset['TransactionDT'].apply(lambda x: int(x/86400)) # Day count\n",
    "trainset['TransactionDT_hour'] = trainset['TransactionDT'].apply(lambda x: int(x/86400%1*24)) # Hour of the day\n",
    "trainset['TransactionDT_min'] = trainset['TransactionDT'].apply(lambda x: int(x/86400%1*24%1*60)) # Minute of the hour\n",
    "trainset['TransactionDT_sec'] = trainset['TransactionDT'].apply(lambda x: int(x/86400%1*24%1*60%1*60)) # Seconds of the minute"
   ]
  },
  {
   "cell_type": "markdown",
   "metadata": {},
   "source": [
    "## Part 1 - Fraudulent vs Non-Fraudulent Transaction"
   ]
  },
  {
   "cell_type": "markdown",
   "metadata": {},
   "source": [
    "#### Plot [histogram$^{[1]}$](#References) of all the numerical fields for both fraudulent and non-fraudulent transactions and comparing the graphs:"
   ]
  },
  {
   "cell_type": "code",
   "execution_count": 1,
   "metadata": {},
   "outputs": [],
   "source": [
    "hist = trainset[trainset['isFraud'] == True][[\"TransactionID\",\"TransactionDT\",\"TransactionAmt\",\"addr1\",\"addr2\",\"dist1\",\"dist2\"]].hist(grid=False, figsize=(24,16), color='#86bf91', zorder=2, rwidth=0.9)"
   ]
  },
  {
   "cell_type": "code",
   "execution_count": null,
   "metadata": {},
   "outputs": [],
   "source": [
    "hist = trainset[trainset['isFraud'] == False][[\"TransactionID\",\"TransactionDT\",\"TransactionAmt\",\"addr1\",\"addr2\",\"dist1\",\"dist2\"]].hist(grid=False, figsize=(24,16), color='#86bf91', zorder=2, rwidth=0.9)"
   ]
  },
  {
   "cell_type": "markdown",
   "metadata": {},
   "source": [
    "#### Comparing the histograms above we can make the following observations: \n",
    "\n",
    "- `TransactionAmt`: The transaction amounts are high for both fraud and non-fraud transactions. Amounts seem to be slightly distributed for fraud transactions while for non fraud transactions high frequency of high amounts of transactions completely skew the histogram. This feature might be useful in prediction because of the difference in distributions\n",
    "- `TransactionDT`: The transactions seem fairly evenly distributed across all days for fraudulent transactions. Similarly for non fraud transactions, only the initial days have slightly higher number of transactions while the rest of the days have even distributions.\n",
    "- `TransactionID`: Since this is an ID field providing identity for transactions, it is evenly distributed for non-fraud transactions. Fraudulent transactions also occur randomly across IDs revealing no pattern.\n",
    "- `addr1`, `addr2`: Both the address fields have similar histograms for fraud and non fraud transactions. The addr2 field is heavily dominated by a particular value with a single peak in the graph. This field does not seem to be a useful feature for the prediction model.\n",
    "- `dist1`, `dist2`: The distance fields also show domination by a particular value and might not be useful. For fraud transactions slight higher frequencies are observed for other values but that may be because of the low frequency of fraudulent transactions."
   ]
  },
  {
   "cell_type": "code",
   "execution_count": 10,
   "metadata": {
    "collapsed": true,
    "jupyter": {
     "outputs_hidden": true
    }
   },
   "outputs": [
    {
     "data": {
      "text/html": [
       "<div>\n",
       "<style scoped>\n",
       "    .dataframe tbody tr th:only-of-type {\n",
       "        vertical-align: middle;\n",
       "    }\n",
       "\n",
       "    .dataframe tbody tr th {\n",
       "        vertical-align: top;\n",
       "    }\n",
       "\n",
       "    .dataframe thead th {\n",
       "        text-align: right;\n",
       "    }\n",
       "</style>\n",
       "<table border=\"1\" class=\"dataframe\">\n",
       "  <thead>\n",
       "    <tr style=\"text-align: right;\">\n",
       "      <th></th>\n",
       "      <th>TransactionID</th>\n",
       "      <th>TransactionDT</th>\n",
       "      <th>TransactionAmt</th>\n",
       "      <th>addr1</th>\n",
       "      <th>addr2</th>\n",
       "      <th>dist1</th>\n",
       "      <th>dist2</th>\n",
       "    </tr>\n",
       "  </thead>\n",
       "  <tbody>\n",
       "    <tr>\n",
       "      <th>count</th>\n",
       "      <td>2.066300e+04</td>\n",
       "      <td>2.066300e+04</td>\n",
       "      <td>20663.000000</td>\n",
       "      <td>12922.000000</td>\n",
       "      <td>12922.000000</td>\n",
       "      <td>4755.000000</td>\n",
       "      <td>3731.000000</td>\n",
       "    </tr>\n",
       "    <tr>\n",
       "      <th>mean</th>\n",
       "      <td>3.294952e+06</td>\n",
       "      <td>7.690033e+06</td>\n",
       "      <td>149.244779</td>\n",
       "      <td>294.317134</td>\n",
       "      <td>86.286024</td>\n",
       "      <td>174.588854</td>\n",
       "      <td>201.472259</td>\n",
       "    </tr>\n",
       "    <tr>\n",
       "      <th>std</th>\n",
       "      <td>1.620403e+05</td>\n",
       "      <td>4.416551e+06</td>\n",
       "      <td>232.212163</td>\n",
       "      <td>103.584955</td>\n",
       "      <td>4.936238</td>\n",
       "      <td>424.232313</td>\n",
       "      <td>451.589576</td>\n",
       "    </tr>\n",
       "    <tr>\n",
       "      <th>min</th>\n",
       "      <td>2.987203e+06</td>\n",
       "      <td>8.976000e+04</td>\n",
       "      <td>0.292000</td>\n",
       "      <td>110.000000</td>\n",
       "      <td>10.000000</td>\n",
       "      <td>0.000000</td>\n",
       "      <td>0.000000</td>\n",
       "    </tr>\n",
       "    <tr>\n",
       "      <th>25%</th>\n",
       "      <td>3.167366e+06</td>\n",
       "      <td>3.965858e+06</td>\n",
       "      <td>35.044000</td>\n",
       "      <td>204.000000</td>\n",
       "      <td>87.000000</td>\n",
       "      <td>3.000000</td>\n",
       "      <td>7.000000</td>\n",
       "    </tr>\n",
       "    <tr>\n",
       "      <th>50%</th>\n",
       "      <td>3.291934e+06</td>\n",
       "      <td>7.575230e+06</td>\n",
       "      <td>75.000000</td>\n",
       "      <td>299.000000</td>\n",
       "      <td>87.000000</td>\n",
       "      <td>10.000000</td>\n",
       "      <td>49.000000</td>\n",
       "    </tr>\n",
       "    <tr>\n",
       "      <th>75%</th>\n",
       "      <td>3.428646e+06</td>\n",
       "      <td>1.121743e+07</td>\n",
       "      <td>161.000000</td>\n",
       "      <td>330.000000</td>\n",
       "      <td>87.000000</td>\n",
       "      <td>85.500000</td>\n",
       "      <td>233.000000</td>\n",
       "    </tr>\n",
       "    <tr>\n",
       "      <th>max</th>\n",
       "      <td>3.577526e+06</td>\n",
       "      <td>1.581088e+07</td>\n",
       "      <td>5191.000000</td>\n",
       "      <td>536.000000</td>\n",
       "      <td>96.000000</td>\n",
       "      <td>4942.000000</td>\n",
       "      <td>9337.000000</td>\n",
       "    </tr>\n",
       "  </tbody>\n",
       "</table>\n",
       "</div>"
      ],
      "text/plain": [
       "       TransactionID  TransactionDT  TransactionAmt         addr1  \\\n",
       "count   2.066300e+04   2.066300e+04    20663.000000  12922.000000   \n",
       "mean    3.294952e+06   7.690033e+06      149.244779    294.317134   \n",
       "std     1.620403e+05   4.416551e+06      232.212163    103.584955   \n",
       "min     2.987203e+06   8.976000e+04        0.292000    110.000000   \n",
       "25%     3.167366e+06   3.965858e+06       35.044000    204.000000   \n",
       "50%     3.291934e+06   7.575230e+06       75.000000    299.000000   \n",
       "75%     3.428646e+06   1.121743e+07      161.000000    330.000000   \n",
       "max     3.577526e+06   1.581088e+07     5191.000000    536.000000   \n",
       "\n",
       "              addr2        dist1        dist2  \n",
       "count  12922.000000  4755.000000  3731.000000  \n",
       "mean      86.286024   174.588854   201.472259  \n",
       "std        4.936238   424.232313   451.589576  \n",
       "min       10.000000     0.000000     0.000000  \n",
       "25%       87.000000     3.000000     7.000000  \n",
       "50%       87.000000    10.000000    49.000000  \n",
       "75%       87.000000    85.500000   233.000000  \n",
       "max       96.000000  4942.000000  9337.000000  "
      ]
     },
     "execution_count": 10,
     "metadata": {},
     "output_type": "execute_result"
    }
   ],
   "source": [
    "trainset[trainset['isFraud'] == True][[\"TransactionID\",\"TransactionDT\",\"TransactionAmt\",\"addr1\",\"addr2\",\"dist1\",\"dist2\"]].describe()"
   ]
  },
  {
   "cell_type": "code",
   "execution_count": 12,
   "metadata": {
    "collapsed": true,
    "jupyter": {
     "outputs_hidden": true
    }
   },
   "outputs": [
    {
     "data": {
      "text/html": [
       "<div>\n",
       "<style scoped>\n",
       "    .dataframe tbody tr th:only-of-type {\n",
       "        vertical-align: middle;\n",
       "    }\n",
       "\n",
       "    .dataframe tbody tr th {\n",
       "        vertical-align: top;\n",
       "    }\n",
       "\n",
       "    .dataframe thead th {\n",
       "        text-align: right;\n",
       "    }\n",
       "</style>\n",
       "<table border=\"1\" class=\"dataframe\">\n",
       "  <thead>\n",
       "    <tr style=\"text-align: right;\">\n",
       "      <th></th>\n",
       "      <th>TransactionID</th>\n",
       "      <th>TransactionDT</th>\n",
       "      <th>TransactionAmt</th>\n",
       "      <th>addr1</th>\n",
       "      <th>addr2</th>\n",
       "      <th>dist1</th>\n",
       "      <th>dist2</th>\n",
       "    </tr>\n",
       "  </thead>\n",
       "  <tbody>\n",
       "    <tr>\n",
       "      <th>count</th>\n",
       "      <td>5.698770e+05</td>\n",
       "      <td>5.698770e+05</td>\n",
       "      <td>569877.000000</td>\n",
       "      <td>511912.000000</td>\n",
       "      <td>511912.000000</td>\n",
       "      <td>233514.000000</td>\n",
       "      <td>33896.000000</td>\n",
       "    </tr>\n",
       "    <tr>\n",
       "      <th>mean</th>\n",
       "      <td>3.281810e+06</td>\n",
       "      <td>7.360791e+06</td>\n",
       "      <td>134.511665</td>\n",
       "      <td>290.643341</td>\n",
       "      <td>86.813620</td>\n",
       "      <td>117.360098</td>\n",
       "      <td>235.199758</td>\n",
       "    </tr>\n",
       "    <tr>\n",
       "      <th>std</th>\n",
       "      <td>1.707548e+05</td>\n",
       "      <td>4.623930e+06</td>\n",
       "      <td>239.395078</td>\n",
       "      <td>101.692564</td>\n",
       "      <td>2.607742</td>\n",
       "      <td>370.641879</td>\n",
       "      <td>536.798492</td>\n",
       "    </tr>\n",
       "    <tr>\n",
       "      <th>min</th>\n",
       "      <td>2.987000e+06</td>\n",
       "      <td>8.640000e+04</td>\n",
       "      <td>0.251000</td>\n",
       "      <td>100.000000</td>\n",
       "      <td>13.000000</td>\n",
       "      <td>0.000000</td>\n",
       "      <td>0.000000</td>\n",
       "    </tr>\n",
       "    <tr>\n",
       "      <th>25%</th>\n",
       "      <td>3.133317e+06</td>\n",
       "      <td>3.010651e+06</td>\n",
       "      <td>43.970000</td>\n",
       "      <td>204.000000</td>\n",
       "      <td>87.000000</td>\n",
       "      <td>3.000000</td>\n",
       "      <td>7.000000</td>\n",
       "    </tr>\n",
       "    <tr>\n",
       "      <th>50%</th>\n",
       "      <td>3.281808e+06</td>\n",
       "      <td>7.271678e+06</td>\n",
       "      <td>68.500000</td>\n",
       "      <td>299.000000</td>\n",
       "      <td>87.000000</td>\n",
       "      <td>8.000000</td>\n",
       "      <td>36.000000</td>\n",
       "    </tr>\n",
       "    <tr>\n",
       "      <th>75%</th>\n",
       "      <td>3.429974e+06</td>\n",
       "      <td>1.125334e+07</td>\n",
       "      <td>120.000000</td>\n",
       "      <td>330.000000</td>\n",
       "      <td>87.000000</td>\n",
       "      <td>24.000000</td>\n",
       "      <td>206.000000</td>\n",
       "    </tr>\n",
       "    <tr>\n",
       "      <th>max</th>\n",
       "      <td>3.577539e+06</td>\n",
       "      <td>1.581113e+07</td>\n",
       "      <td>31937.391000</td>\n",
       "      <td>540.000000</td>\n",
       "      <td>102.000000</td>\n",
       "      <td>10286.000000</td>\n",
       "      <td>11623.000000</td>\n",
       "    </tr>\n",
       "  </tbody>\n",
       "</table>\n",
       "</div>"
      ],
      "text/plain": [
       "       TransactionID  TransactionDT  TransactionAmt          addr1  \\\n",
       "count   5.698770e+05   5.698770e+05   569877.000000  511912.000000   \n",
       "mean    3.281810e+06   7.360791e+06      134.511665     290.643341   \n",
       "std     1.707548e+05   4.623930e+06      239.395078     101.692564   \n",
       "min     2.987000e+06   8.640000e+04        0.251000     100.000000   \n",
       "25%     3.133317e+06   3.010651e+06       43.970000     204.000000   \n",
       "50%     3.281808e+06   7.271678e+06       68.500000     299.000000   \n",
       "75%     3.429974e+06   1.125334e+07      120.000000     330.000000   \n",
       "max     3.577539e+06   1.581113e+07    31937.391000     540.000000   \n",
       "\n",
       "               addr2          dist1         dist2  \n",
       "count  511912.000000  233514.000000  33896.000000  \n",
       "mean       86.813620     117.360098    235.199758  \n",
       "std         2.607742     370.641879    536.798492  \n",
       "min        13.000000       0.000000      0.000000  \n",
       "25%        87.000000       3.000000      7.000000  \n",
       "50%        87.000000       8.000000     36.000000  \n",
       "75%        87.000000      24.000000    206.000000  \n",
       "max       102.000000   10286.000000  11623.000000  "
      ]
     },
     "execution_count": 12,
     "metadata": {},
     "output_type": "execute_result"
    }
   ],
   "source": [
    "trainset[trainset['isFraud'] == False][[\"TransactionID\",\"TransactionDT\",\"TransactionAmt\",\"addr1\",\"addr2\",\"dist1\",\"dist2\"]].describe()"
   ]
  },
  {
   "cell_type": "code",
   "execution_count": 7,
   "metadata": {
    "colab": {
     "base_uri": "https://localhost:8080/",
     "height": 297
    },
    "colab_type": "code",
    "id": "T_twqS7wMD1T",
    "outputId": "95741762-d99b-471e-ecbd-f15c91483835"
   },
   "outputs": [
    {
     "data": {
      "text/html": [
       "<div>\n",
       "<style scoped>\n",
       "    .dataframe tbody tr th:only-of-type {\n",
       "        vertical-align: middle;\n",
       "    }\n",
       "\n",
       "    .dataframe tbody tr th {\n",
       "        vertical-align: top;\n",
       "    }\n",
       "\n",
       "    .dataframe thead tr th {\n",
       "        text-align: left;\n",
       "    }\n",
       "\n",
       "    .dataframe thead tr:last-of-type th {\n",
       "        text-align: right;\n",
       "    }\n",
       "</style>\n",
       "<table border=\"1\" class=\"dataframe\">\n",
       "  <thead>\n",
       "    <tr>\n",
       "      <th></th>\n",
       "      <th colspan=\"2\" halign=\"left\">TransactionID</th>\n",
       "      <th colspan=\"2\" halign=\"left\">TransactionDT</th>\n",
       "      <th colspan=\"2\" halign=\"left\">TransactionAmt</th>\n",
       "      <th colspan=\"2\" halign=\"left\">addr1</th>\n",
       "      <th colspan=\"2\" halign=\"left\">addr2</th>\n",
       "      <th colspan=\"2\" halign=\"left\">dist1</th>\n",
       "      <th colspan=\"2\" halign=\"left\">dist2</th>\n",
       "    </tr>\n",
       "    <tr>\n",
       "      <th></th>\n",
       "      <th>mean</th>\n",
       "      <th>median</th>\n",
       "      <th>mean</th>\n",
       "      <th>median</th>\n",
       "      <th>mean</th>\n",
       "      <th>median</th>\n",
       "      <th>mean</th>\n",
       "      <th>median</th>\n",
       "      <th>mean</th>\n",
       "      <th>median</th>\n",
       "      <th>mean</th>\n",
       "      <th>median</th>\n",
       "      <th>mean</th>\n",
       "      <th>median</th>\n",
       "    </tr>\n",
       "    <tr>\n",
       "      <th>isFraud</th>\n",
       "      <th></th>\n",
       "      <th></th>\n",
       "      <th></th>\n",
       "      <th></th>\n",
       "      <th></th>\n",
       "      <th></th>\n",
       "      <th></th>\n",
       "      <th></th>\n",
       "      <th></th>\n",
       "      <th></th>\n",
       "      <th></th>\n",
       "      <th></th>\n",
       "      <th></th>\n",
       "      <th></th>\n",
       "    </tr>\n",
       "  </thead>\n",
       "  <tbody>\n",
       "    <tr>\n",
       "      <th>False</th>\n",
       "      <td>3.281810e+06</td>\n",
       "      <td>3281808</td>\n",
       "      <td>7.360791e+06</td>\n",
       "      <td>7271678</td>\n",
       "      <td>134.511665</td>\n",
       "      <td>68.5</td>\n",
       "      <td>290.643341</td>\n",
       "      <td>299.0</td>\n",
       "      <td>86.813620</td>\n",
       "      <td>87.0</td>\n",
       "      <td>117.360098</td>\n",
       "      <td>8.0</td>\n",
       "      <td>235.199758</td>\n",
       "      <td>36.0</td>\n",
       "    </tr>\n",
       "    <tr>\n",
       "      <th>True</th>\n",
       "      <td>3.294952e+06</td>\n",
       "      <td>3291934</td>\n",
       "      <td>7.690033e+06</td>\n",
       "      <td>7575230</td>\n",
       "      <td>149.244779</td>\n",
       "      <td>75.0</td>\n",
       "      <td>294.317134</td>\n",
       "      <td>299.0</td>\n",
       "      <td>86.286024</td>\n",
       "      <td>87.0</td>\n",
       "      <td>174.588854</td>\n",
       "      <td>10.0</td>\n",
       "      <td>201.472259</td>\n",
       "      <td>49.0</td>\n",
       "    </tr>\n",
       "  </tbody>\n",
       "</table>\n",
       "</div>"
      ],
      "text/plain": [
       "        TransactionID          TransactionDT          TransactionAmt         \\\n",
       "                 mean   median          mean   median           mean median   \n",
       "isFraud                                                                       \n",
       "False    3.281810e+06  3281808  7.360791e+06  7271678     134.511665   68.5   \n",
       "True     3.294952e+06  3291934  7.690033e+06  7575230     149.244779   75.0   \n",
       "\n",
       "              addr1             addr2              dist1              dist2  \\\n",
       "               mean median       mean median        mean median        mean   \n",
       "isFraud                                                                       \n",
       "False    290.643341  299.0  86.813620   87.0  117.360098    8.0  235.199758   \n",
       "True     294.317134  299.0  86.286024   87.0  174.588854   10.0  201.472259   \n",
       "\n",
       "                \n",
       "        median  \n",
       "isFraud         \n",
       "False     36.0  \n",
       "True      49.0  "
      ]
     },
     "execution_count": 7,
     "metadata": {},
     "output_type": "execute_result"
    }
   ],
   "source": [
    "trainset.groupby('isFraud').agg([np.mean, np.median])"
   ]
  },
  {
   "cell_type": "markdown",
   "metadata": {},
   "source": [
    "#### Comparing the statistics of fraudulent vs non-fraudulent transactions:\n",
    "\n",
    "- From the above stats we can observe that the mean and median of transaction amount for fraud transactions is greater than the mean of non fraud transactions which is expected as fraudulent transactions tend to be of higher value.\n",
    "- The address fields are heavily dominated by values 299 and 87, and hence have similar mean and median for both fraud and non fraud transactions.\n",
    "- The distance fields are skewed towards higher values for fraud transactions compared to non frauds as seen from their mean and median values."
   ]
  },
  {
   "cell_type": "code",
   "execution_count": 13,
   "metadata": {},
   "outputs": [
    {
     "data": {
      "image/png": "[encoded data removed]",
      "text/plain": [
       "<Figure size 1728x288 with 4 Axes>"
      ]
     },
     "metadata": {
      "needs_background": "light"
     },
     "output_type": "display_data"
    }
   ],
   "source": [
    "# Plot for frequency distribution of categorical values\n",
    "fig, axes = plt.subplots(1, 4, figsize=(24, 4))\n",
    "\n",
    "for i, column in enumerate([\"DeviceType\",\"ProductCD\",\"card4\",\"card6\"]):\n",
    "    pd.crosstab(trainset[column], trainset.isFraud).plot(kind='bar', ax=axes[i])\n",
    "    axes[i].set_title(\"Distribution of \" + column, pad=20, fontweight='bold', fontsize=12)"
   ]
  },
  {
   "cell_type": "markdown",
   "metadata": {},
   "source": [
    "#### Comparing the frequencies of categorical fields for fraudulent and non-fraudulent transactions through [Data Visualization$^{[2]}$](#References):\n",
    "\n",
    "- `DeviceType`: We can see that fraudulent transactions mostly occur in desktop and mobile devices and not in the empty values for devices. Also the ratio of fraud to non fraud seems higher for mobile device as compared to desktop devices.\n",
    "- `ProductCD`: This field seems to be highly dominated by product code 'W' and fraudulent transactions mostly seem to appear for product codes 'C' and 'W'.\n",
    "- `card4`: The dataset again seems to be dominated by Visa and Mastercard values and accordingly we have higher frauds for Visa and Mastercard.\n",
    "- `card6`: Majority of the transactions are debit card transactions and fraudulent transactions appear both in credit and debit card transactions mostly. Other values have extremely low frequency for this field."
   ]
  },
  {
   "cell_type": "markdown",
   "metadata": {},
   "source": [
    "Other categorical fields like `DeviceInfo`, `P_emaildomain` and `R_emaildomain` have very large number of unique values and do not provide much insight for the dataset. Example values for the field `DeviceInfo` for both fraud and non fraud transactions are as below having similar characteristics:"
   ]
  },
  {
   "cell_type": "code",
   "execution_count": 14,
   "metadata": {},
   "outputs": [
    {
     "data": {
      "text/plain": [
       "isFraud  DeviceInfo                    \n",
       "False    Windows                           44601\n",
       "                                           22856\n",
       "         iOS Device                        18542\n",
       "         MacOS                             12295\n",
       "         Trident/7.0                        7344\n",
       "         rv:11.0                            1825\n",
       "         rv:57.0                             859\n",
       "         SM-J700M Build/MMB29K               489\n",
       "         SM-G610M Build/MMB29K               424\n",
       "         SM-G531H Build/LMY48B               377\n",
       "         rv:59.0                             318\n",
       "         SM-G532M Build/MMB29T               304\n",
       "         SM-G935F Build/NRD90M               303\n",
       "         SM-G955U Build/NRD90M               295\n",
       "         ALE-L23 Build/HuaweiALE-L23         283\n",
       "         SM-G930V Build/NRD90M               274\n",
       "         SM-G950U Build/NRD90M               274\n",
       "         rv:52.0                             244\n",
       "         SAMSUNG                             230\n",
       "         rv:58.0                             220\n",
       "         SM-N950U Build/NMF26X               196\n",
       "         SM-G950F Build/NRD90M               191\n",
       "         Moto G (4) Build/NPJ25.93-14.7      179\n",
       "         SM-G570M Build/MMB29K               179\n",
       "         rv:48.0                             176\n",
       "         SM-J730GM Build/NRD90M              157\n",
       "         CAM-L03 Build/HUAWEICAM-L03         150\n",
       "         LG-D693n Build/LRX22G               150\n",
       "         SM-A520F Build/NRD90M               144\n",
       "         SM-J510MN Build/MMB29M              141\n",
       "                                           ...  \n",
       "True     SAMSUNG SM-N900W8 Build/LRX21V        1\n",
       "         SAMSUNG-SM-T337A Build/LMY47X         1\n",
       "         SM-A310F Build/NRD90M                 1\n",
       "         SM-A310M Build/LMY47X                 1\n",
       "         SM-A710M                              1\n",
       "         SM-G900F Build/KOT49H                 1\n",
       "         SM-G928F                              1\n",
       "         SM-G935F Build/MMB29K                 1\n",
       "         SM-G935P Build/NRD90M                 1\n",
       "         SM-G955F Build/R16NW                  1\n",
       "         SM-J730G Build/NRD90M                 1\n",
       "         SM-N950U Build/R16NW                  1\n",
       "         SM-P550 Build/MMB29M                  1\n",
       "         SM-P550 Build/NMF26X                  1\n",
       "         SM-T285M                              1\n",
       "         SM-T530                               1\n",
       "         SM-T713 Build/NRD90M                  1\n",
       "         VS995 Build/NRD90M                    1\n",
       "         VTR-L09 Build/HUAWEIVTR-L09           1\n",
       "         XT1609 Build/NPIS26.48-38-3           1\n",
       "         Z                                     1\n",
       "         Z410                                  1\n",
       "         Z557BL                                1\n",
       "         Z983 Build/NMF26F                     1\n",
       "         ZTE-Z956                              1\n",
       "         iPhone                                1\n",
       "         rv:29.0                               1\n",
       "         rv:45.0                               1\n",
       "         rv:52.9                               1\n",
       "         rv:61.0                               1\n",
       "Name: DeviceInfo, Length: 2162, dtype: int64"
      ]
     },
     "execution_count": 14,
     "metadata": {},
     "output_type": "execute_result"
    }
   ],
   "source": [
    "trainset.groupby('isFraud')['DeviceInfo'].value_counts()"
   ]
  },
  {
   "cell_type": "markdown",
   "metadata": {},
   "source": [
    "## Part 2 - Transaction Frequency"
   ]
  },
  {
   "cell_type": "code",
   "execution_count": 2,
   "metadata": {},
   "outputs": [],
   "source": [
    "# Create dataset containing entries for only the most frequently occuring country code in addr2\n",
    "most_freq_country_code = trainset['addr2'].value_counts().idxmax()\n",
    "print('Most frequent country code: {}'.format(most_freq_country_code))\n",
    "addr2_set = trainset[trainset['addr2'] == most_freq_country_code]"
   ]
  },
  {
   "cell_type": "code",
   "execution_count": 18,
   "metadata": {
    "colab": {
     "base_uri": "https://localhost:8080/",
     "height": 563
    },
    "colab_type": "code",
    "id": "NrlbzDqngrfG",
    "outputId": "cc9b0ff6-f812-46cc-b0bf-f15f9467fe93"
   },
   "outputs": [
    {
     "data": {
      "text/plain": [
       "Text(0, 0.5, 'Number of Transactions')"
      ]
     },
     "execution_count": 18,
     "metadata": {},
     "output_type": "execute_result"
    },
    {
     "data": {
      "image/png": "[encoded data removed]",
      "text/plain": [
       "<Figure size 576x432 with 1 Axes>"
      ]
     },
     "metadata": {
      "needs_background": "light"
     },
     "output_type": "display_data"
    }
   ],
   "source": [
    "# Histogram of hour of the day\n",
    "hist = addr2_set['TransactionDT_hour'].hist(bins=24, grid=False, figsize=(8,6), color='#86bf91', zorder=2, rwidth=0.9)\n",
    "hist.axvline(addr2_set['TransactionDT_hour'].mean(), color='k', linestyle='dashed', linewidth=1)\n",
    "\n",
    "hist.set_title(\"Distribution of transactions by time of day for country with most frequent country code\", pad=20, fontweight='bold', fontsize=12)\n",
    "\n",
    "hist.set_xlabel(\"Hour of day (24 hr format)\", labelpad=20, weight='bold', size=12)\n",
    "hist.set_ylabel(\"Number of Transactions\", labelpad=20, weight='bold', size=12)"
   ]
  },
  {
   "cell_type": "markdown",
   "metadata": {},
   "source": [
    "#### From the above distribution of transactions for hour of the day for the most frequent country code, we can infer a few things:\n",
    "\n",
    "- The transactions show a cyclic pattern across the day. This is true because hour of the day goes from 0 to 23 and then back to 0 following a cyclic pattern as well. \n",
    "- It can also be observed that the frequency of transactions is high during certain hours and low during other hours. This can be explained by the fact that most transactions occur during daytime and only a few transactions occur at night.\n",
    "- We can see that the transactions are lowest at 8th and 9th hour and start to increase after 10th hour. Assuming that transactions are lowest after midnight and start increasing after waking hours i.e. sunrise (6 am), we can map 10th hour of the dataset to 6 am and can deduce the timezone to be roughly around -4:00 UTC which suggests that this area code belongs to western countries."
   ]
  },
  {
   "cell_type": "markdown",
   "metadata": {},
   "source": [
    "## Part 3 - Product Code"
   ]
  },
  {
   "cell_type": "code",
   "execution_count": 3,
   "metadata": {},
   "outputs": [],
   "source": [
    "# TODO: code to analyze prices for different product codes"
   ]
  },
  {
   "cell_type": "markdown",
   "metadata": {},
   "source": [
    "Write your answer here"
   ]
  },
  {
   "cell_type": "markdown",
   "metadata": {},
   "source": [
    "## Part 4 - Correlation Coefficient"
   ]
  },
  {
   "cell_type": "code",
   "execution_count": 4,
   "metadata": {},
   "outputs": [],
   "source": [
    "# TODO: code to calculate correlation coefficient"
   ]
  },
  {
   "cell_type": "markdown",
   "metadata": {},
   "source": [
    "Write your answer here"
   ]
  },
  {
   "cell_type": "markdown",
   "metadata": {},
   "source": [
    "## Part 5 - Interesting Plot"
   ]
  },
  {
   "cell_type": "code",
   "execution_count": 5,
   "metadata": {},
   "outputs": [],
   "source": [
    "# TODO: code to generate the plot here."
   ]
  },
  {
   "cell_type": "markdown",
   "metadata": {},
   "source": [
    "Write your answer here"
   ]
  },
  {
   "cell_type": "markdown",
   "metadata": {},
   "source": [
    "## Part 6 - Prediction Model"
   ]
  },
  {
   "cell_type": "code",
   "execution_count": 6,
   "metadata": {},
   "outputs": [],
   "source": [
    "# TODO: code for your final model"
   ]
  },
  {
   "cell_type": "markdown",
   "metadata": {},
   "source": [
    "Write your answer here"
   ]
  },
  {
   "cell_type": "markdown",
   "metadata": {},
   "source": [
    "## Part 7 - Final Result"
   ]
  },
  {
   "cell_type": "markdown",
   "metadata": {},
   "source": [
    "Report the rank, score, number of entries, for your highest rank. Include a snapshot of your best score on the leaderboard as confirmation. Be sure to provide a link to your Kaggle profile. Make sure to include a screenshot of your ranking. Make sure your profile includes your face and affiliation with SBU."
   ]
  },
  {
   "cell_type": "markdown",
   "metadata": {},
   "source": [
    "Kaggle Link: FILL HERE"
   ]
  },
  {
   "cell_type": "markdown",
   "metadata": {},
   "source": [
    "Highest Rank: FILL HERE"
   ]
  },
  {
   "cell_type": "markdown",
   "metadata": {},
   "source": [
    "Score: FILL HERE"
   ]
  },
  {
   "cell_type": "markdown",
   "metadata": {},
   "source": [
    "Number of entries: FILL HERE"
   ]
  },
  {
   "cell_type": "markdown",
   "metadata": {},
   "source": [
    "INCLUDE IMAGE OF YOUR KAGGLE RANKING"
   ]
  },
  {
   "cell_type": "markdown",
   "metadata": {},
   "source": [
    "References\n",
    "----------\n",
    "\n",
    "1. histograms - https://mode.com/example-gallery/python_histogram/  \n",
    "1. data visualization - https://towardsdatascience.com/building-a-logistic-regression-in-python-step-by-step-becd4d56c9c8\n",
    "1. logistic regression - https://towardsdatascience.com/building-a-logistic-regression-in-python-step-by-step-becd4d56c9c8  \n",
    "1. cyclical features - http://blog.davidkaleko.com/feature-engineering-cyclical-features.html  \n",
    "1. data cleaning - https://docs.google.com/presentation/d/12Oqzl6aqFtCncrZlUO-82prtiofQt46q-79gzb_nTEA/edit#slide=id.g1187521ab4_0_125\n",
    "1. undersampling - https://towardsdatascience.com/sampling-techniques-for-extremely-imbalanced-data-part-i-under-sampling-a8dbc3d8d6d8\n",
    "1. oversampling - https://towardsdatascience.com/sampling-techniques-for-extremely-imbalanced-data-part-ii-over-sampling-d61b43bc4879\n",
    "1. saving a model - https://machinelearningmastery.com/save-load-machine-learning-models-python-scikit-learn/\n",
    "1. xgboost - https://machinelearningmastery.com/develop-first-xgboost-model-python-scikit-learn/"
   ]
  },
  {
   "cell_type": "code",
   "execution_count": null,
   "metadata": {},
   "outputs": [],
   "source": []
  }
 ],
 "metadata": {
  "kernelspec": {
   "display_name": "Python 3",
   "language": "python",
   "name": "python3"
  },
  "language_info": {
   "codemirror_mode": {
    "name": "ipython",
    "version": 3
   },
   "file_extension": ".py",
   "mimetype": "text/x-python",
   "name": "python",
   "nbconvert_exporter": "python",
   "pygments_lexer": "ipython3",
   "version": "3.7.3"
  }
 },
 "nbformat": 4,
 "nbformat_minor": 4
}
