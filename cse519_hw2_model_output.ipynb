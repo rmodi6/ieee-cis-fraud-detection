{
 "cells": [
  {
   "cell_type": "code",
   "execution_count": 1,
   "metadata": {},
   "outputs": [],
   "source": [
    "import pandas as pd\n",
    "import numpy as np\n",
    "import matplotlib as mpl\n",
    "import matplotlib.pyplot as plt\n",
    "import seaborn as sns\n",
    "import datatable as dt"
   ]
  },
  {
   "cell_type": "code",
   "execution_count": 2,
   "metadata": {},
   "outputs": [],
   "source": [
    "test_transaction = dt.fread(\"/home/rmodi/Documents/CSE519/hw2/dataset/test_transaction.csv\").to_pandas()\n",
    "test_identity = dt.fread(\"/home/rmodi/Documents/CSE519/hw2/dataset/test_identity.csv\").to_pandas()\n",
    "\n",
    "testset = pd.merge(test_transaction, test_identity, on='TransactionID', how='outer')\n",
    "%reset_selective -f test_transaction\n",
    "%reset_selective -f test_identity\n",
    "\n",
    "testset = testset[[\"TransactionID\",\"DeviceType\",\"DeviceInfo\",\"TransactionDT\",\"TransactionAmt\",\"ProductCD\",\"card4\",\"card6\",\"P_emaildomain\",\"R_emaildomain\",\"addr1\",\"addr2\",\"dist1\",\"dist2\"]]\n",
    "\n",
    "testset['TransactionDT_day'] = testset['TransactionDT'].apply(lambda x: int(x/86400))\n",
    "testset['TransactionDT_hour'] = testset['TransactionDT'].apply(lambda x: int(x/86400%1*24))\n",
    "testset['TransactionDT_min'] = testset['TransactionDT'].apply(lambda x: int(x/86400%1*24%1*60))\n",
    "testset['TransactionDT_sec'] = testset['TransactionDT'].apply(lambda x: int(x/86400%1*24%1*60%1*60))"
   ]
  },
  {
   "cell_type": "code",
   "execution_count": 3,
   "metadata": {},
   "outputs": [],
   "source": [
    "# Create a copy of trainset for easy resetting\n",
    "dataset = testset.copy()"
   ]
  },
  {
   "cell_type": "code",
   "execution_count": 4,
   "metadata": {},
   "outputs": [],
   "source": [
    "# Replace columns that have empty value with 'unknown' value\n",
    "cols = ['card4', 'card6', 'DeviceType', 'DeviceInfo', 'P_emaildomain', 'R_emaildomain']\n",
    "dataset[cols] = dataset[cols].replace({'': 'unknown'})\n",
    "\n",
    "# Keep the top 5 column values and group remaining ones into 'Others'\n",
    "top5_deviceinfo = set(dataset['DeviceInfo'].value_counts()[:5].index)\n",
    "dataset['DeviceInfo'] = dataset['DeviceInfo'].apply(lambda x: x if x in top5_deviceinfo else 'Others')\n",
    "\n",
    "# Group categories that are similar into one category [4]\n",
    "regex_patterns = {\n",
    "    r'^frontier.*$': 'frontier.com',\n",
    "    r'^gmail.*$': 'gmail.com',\n",
    "    r'^hotmail.*$': 'hotmail.com',\n",
    "    r'^live.*$': 'live.com',\n",
    "    r'^netzero.*$': 'netzero.com',\n",
    "    r'^outlook.*$': 'outlook.com',\n",
    "    r'^yahoo.*$': 'yahoo.com'\n",
    "}\n",
    "replacements = {\n",
    "    'P_emaildomain': regex_patterns,\n",
    "    'R_emaildomain': regex_patterns\n",
    "}\n",
    "\n",
    "dataset.replace(replacements, regex=True, inplace=True)\n",
    "\n",
    "dataset['hr_sin'] = np.sin((dataset['TransactionDT_hour'] + dataset['TransactionDT_min']/60.0)*(np.pi/12.0))\n",
    "dataset['hr_cos'] = np.cos((dataset['TransactionDT_hour'] + dataset['TransactionDT_min']/60.0)*(np.pi/12.0))\n",
    "dataset['TransactionAmt_lg'] = np.log(dataset['TransactionAmt'])\n",
    "\n",
    "from sklearn.preprocessing import RobustScaler\n",
    "\n",
    "rob_scaler = RobustScaler()\n",
    "dataset['TransactionAmt_scaled'] = rob_scaler.fit_transform(dataset['TransactionAmt'].values.reshape(-1,1))\n",
    "\n",
    "categorical_cols = ['DeviceType', 'ProductCD', 'card4', 'card6', 'P_emaildomain', 'R_emaildomain']\n",
    "ohe = pd.get_dummies(dataset[categorical_cols])\n",
    "dataset = dataset.join(ohe)\n",
    "dataset['card6_debit or credit'] = 0.0\n",
    "\n",
    "train_cols = [\"TransactionAmt_scaled\",\"hr_sin\",\"hr_cos\"] + list(ohe.columns)"
   ]
  },
  {
   "cell_type": "code",
   "execution_count": 5,
   "metadata": {},
   "outputs": [
    {
     "ename": "ValueError",
     "evalue": "feature_names mismatch: ['f0', 'f1', 'f2', 'f3', 'f4', 'f5', 'f6', 'f7', 'f8', 'f9', 'f10', 'f11', 'f12', 'f13', 'f14', 'f15', 'f16', 'f17', 'f18', 'f19', 'f20', 'f21', 'f22', 'f23', 'f24', 'f25', 'f26', 'f27', 'f28', 'f29', 'f30', 'f31', 'f32', 'f33', 'f34', 'f35', 'f36', 'f37', 'f38', 'f39', 'f40', 'f41', 'f42', 'f43', 'f44', 'f45', 'f46', 'f47', 'f48', 'f49', 'f50', 'f51', 'f52', 'f53', 'f54', 'f55', 'f56', 'f57', 'f58', 'f59', 'f60', 'f61', 'f62', 'f63', 'f64', 'f65', 'f66', 'f67', 'f68', 'f69', 'f70', 'f71', 'f72', 'f73', 'f74', 'f75', 'f76', 'f77', 'f78', 'f79', 'f80', 'f81', 'f82', 'f83', 'f84', 'f85', 'f86', 'f87', 'f88', 'f89', 'f90', 'f91', 'f92', 'f93', 'f94', 'f95', 'f96', 'f97', 'f98', 'f99', 'f100', 'f101', 'f102', 'f103', 'f104', 'f105', 'f106', 'f107', 'f108', 'f109'] ['TransactionAmt_scaled', 'hr_sin', 'hr_cos', 'DeviceType_desktop', 'DeviceType_mobile', 'DeviceType_unknown', 'ProductCD_C', 'ProductCD_H', 'ProductCD_R', 'ProductCD_S', 'ProductCD_W', 'card4_american express', 'card4_discover', 'card4_mastercard', 'card4_unknown', 'card4_visa', 'card6_charge card', 'card6_credit', 'card6_debit', 'card6_unknown', 'P_emaildomain_aim.com', 'P_emaildomain_anonymous.com', 'P_emaildomain_aol.com', 'P_emaildomain_att.net', 'P_emaildomain_bellsouth.net', 'P_emaildomain_cableone.net', 'P_emaildomain_centurylink.net', 'P_emaildomain_cfl.rr.com', 'P_emaildomain_charter.net', 'P_emaildomain_comcast.net', 'P_emaildomain_cox.net', 'P_emaildomain_earthlink.net', 'P_emaildomain_embarqmail.com', 'P_emaildomain_frontier.com', 'P_emaildomain_gmail.com', 'P_emaildomain_gmx.de', 'P_emaildomain_hotmail.com', 'P_emaildomain_icloud.com', 'P_emaildomain_juno.com', 'P_emaildomain_live.com', 'P_emaildomain_mac.com', 'P_emaildomain_mail.com', 'P_emaildomain_me.com', 'P_emaildomain_msn.com', 'P_emaildomain_netzero.com', 'P_emaildomain_optonline.net', 'P_emaildomain_outlook.com', 'P_emaildomain_prodigy.net.mx', 'P_emaildomain_protonmail.com', 'P_emaildomain_ptd.net', 'P_emaildomain_q.com', 'P_emaildomain_roadrunner.com', 'P_emaildomain_rocketmail.com', 'P_emaildomain_sbcglobal.net', 'P_emaildomain_sc.rr.com', 'P_emaildomain_scranton.edu', 'P_emaildomain_servicios-ta.com', 'P_emaildomain_suddenlink.net', 'P_emaildomain_twc.com', 'P_emaildomain_unknown', 'P_emaildomain_verizon.net', 'P_emaildomain_web.de', 'P_emaildomain_windstream.net', 'P_emaildomain_yahoo.com', 'P_emaildomain_ymail.com', 'R_emaildomain_aim.com', 'R_emaildomain_anonymous.com', 'R_emaildomain_aol.com', 'R_emaildomain_att.net', 'R_emaildomain_bellsouth.net', 'R_emaildomain_cableone.net', 'R_emaildomain_centurylink.net', 'R_emaildomain_cfl.rr.com', 'R_emaildomain_charter.net', 'R_emaildomain_comcast.net', 'R_emaildomain_cox.net', 'R_emaildomain_earthlink.net', 'R_emaildomain_embarqmail.com', 'R_emaildomain_frontier.com', 'R_emaildomain_gmail.com', 'R_emaildomain_gmx.de', 'R_emaildomain_hotmail.com', 'R_emaildomain_icloud.com', 'R_emaildomain_juno.com', 'R_emaildomain_live.com', 'R_emaildomain_mac.com', 'R_emaildomain_mail.com', 'R_emaildomain_me.com', 'R_emaildomain_msn.com', 'R_emaildomain_netzero.com', 'R_emaildomain_optonline.net', 'R_emaildomain_outlook.com', 'R_emaildomain_prodigy.net.mx', 'R_emaildomain_protonmail.com', 'R_emaildomain_ptd.net', 'R_emaildomain_q.com', 'R_emaildomain_roadrunner.com', 'R_emaildomain_rocketmail.com', 'R_emaildomain_sbcglobal.net', 'R_emaildomain_sc.rr.com', 'R_emaildomain_scranton.edu', 'R_emaildomain_servicios-ta.com', 'R_emaildomain_suddenlink.net', 'R_emaildomain_twc.com', 'R_emaildomain_unknown', 'R_emaildomain_verizon.net', 'R_emaildomain_web.de', 'R_emaildomain_windstream.net', 'R_emaildomain_yahoo.com', 'R_emaildomain_ymail.com']\nexpected f93, f47, f78, f100, f96, f68, f42, f33, f18, f40, f109, f25, f32, f15, f106, f81, f30, f14, f52, f107, f108, f19, f84, f56, f44, f12, f9, f89, f37, f64, f72, f45, f104, f24, f55, f75, f101, f10, f61, f77, f102, f91, f98, f80, f51, f69, f2, f0, f63, f4, f70, f3, f86, f99, f95, f36, f6, f13, f66, f83, f17, f82, f59, f49, f92, f23, f1, f21, f65, f22, f79, f41, f29, f50, f105, f94, f54, f26, f67, f58, f5, f35, f60, f43, f8, f39, f16, f97, f85, f103, f73, f28, f71, f62, f53, f46, f87, f74, f38, f27, f31, f57, f34, f48, f76, f11, f88, f7, f20, f90 in input data\ntraining data did not have the following fields: P_emaildomain_frontier.com, R_emaildomain_servicios-ta.com, R_emaildomain_optonline.net, P_emaildomain_me.com, card6_charge card, R_emaildomain_live.com, R_emaildomain_sbcglobal.net, P_emaildomain_outlook.com, P_emaildomain_cfl.rr.com, R_emaildomain_sc.rr.com, P_emaildomain_ymail.com, R_emaildomain_aol.com, R_emaildomain_windstream.net, P_emaildomain_comcast.net, R_emaildomain_centurylink.net, P_emaildomain_prodigy.net.mx, P_emaildomain_gmail.com, R_emaildomain_me.com, DeviceType_mobile, P_emaildomain_mail.com, R_emaildomain_netzero.com, P_emaildomain_anonymous.com, P_emaildomain_hotmail.com, P_emaildomain_centurylink.net, P_emaildomain_embarqmail.com, R_emaildomain_bellsouth.net, R_emaildomain_juno.com, card6_unknown, P_emaildomain_charter.net, card4_visa, P_emaildomain_windstream.net, P_emaildomain_gmx.de, P_emaildomain_verizon.net, DeviceType_desktop, P_emaildomain_roadrunner.com, R_emaildomain_rocketmail.com, ProductCD_C, R_emaildomain_aim.com, R_emaildomain_att.net, R_emaildomain_ymail.com, R_emaildomain_earthlink.net, P_emaildomain_aol.com, card6_credit, P_emaildomain_q.com, ProductCD_R, P_emaildomain_yahoo.com, P_emaildomain_aim.com, R_emaildomain_icloud.com, P_emaildomain_earthlink.net, P_emaildomain_twc.com, R_emaildomain_gmail.com, R_emaildomain_prodigy.net.mx, P_emaildomain_suddenlink.net, R_emaildomain_yahoo.com, card4_mastercard, R_emaildomain_unknown, R_emaildomain_cfl.rr.com, P_emaildomain_cox.net, P_emaildomain_web.de, ProductCD_W, R_emaildomain_hotmail.com, P_emaildomain_optonline.net, P_emaildomain_bellsouth.net, ProductCD_S, hr_cos, P_emaildomain_ptd.net, R_emaildomain_anonymous.com, R_emaildomain_roadrunner.com, P_emaildomain_scranton.edu, R_emaildomain_scranton.edu, DeviceType_unknown, P_emaildomain_rocketmail.com, P_emaildomain_sc.rr.com, hr_sin, R_emaildomain_q.com, R_emaildomain_msn.com, R_emaildomain_ptd.net, card6_debit, card4_unknown, card4_discover, P_emaildomain_protonmail.com, P_emaildomain_mac.com, P_emaildomain_icloud.com, R_emaildomain_comcast.net, R_emaildomain_mail.com, ProductCD_H, P_emaildomain_netzero.com, P_emaildomain_live.com, P_emaildomain_juno.com, R_emaildomain_verizon.net, P_emaildomain_unknown, P_emaildomain_servicios-ta.com, R_emaildomain_cableone.net, R_emaildomain_protonmail.com, R_emaildomain_mac.com, R_emaildomain_gmx.de, R_emaildomain_charter.net, R_emaildomain_suddenlink.net, R_emaildomain_cox.net, R_emaildomain_twc.com, R_emaildomain_outlook.com, card4_american express, R_emaildomain_frontier.com, P_emaildomain_sbcglobal.net, P_emaildomain_cableone.net, R_emaildomain_web.de, R_emaildomain_embarqmail.com, P_emaildomain_msn.com, P_emaildomain_att.net, TransactionAmt_scaled",
     "output_type": "error",
     "traceback": [
      "\u001b[0;31m---------------------------------------------------------------------------\u001b[0m",
      "\u001b[0;31mValueError\u001b[0m                                Traceback (most recent call last)",
      "\u001b[0;32m<ipython-input-5-d0f1ffe535e5>\u001b[0m in \u001b[0;36m<module>\u001b[0;34m\u001b[0m\n\u001b[1;32m      1\u001b[0m \u001b[0;32mimport\u001b[0m \u001b[0mjoblib\u001b[0m\u001b[0;34m\u001b[0m\u001b[0;34m\u001b[0m\u001b[0m\n\u001b[1;32m      2\u001b[0m \u001b[0mclf\u001b[0m \u001b[0;34m=\u001b[0m \u001b[0mjoblib\u001b[0m\u001b[0;34m.\u001b[0m\u001b[0mload\u001b[0m\u001b[0;34m(\u001b[0m\u001b[0;34m'rs_rus_xgb.pkl'\u001b[0m\u001b[0;34m)\u001b[0m\u001b[0;34m\u001b[0m\u001b[0;34m\u001b[0m\u001b[0m\n\u001b[0;32m----> 3\u001b[0;31m \u001b[0mtest_preds_proba\u001b[0m \u001b[0;34m=\u001b[0m \u001b[0mclf\u001b[0m\u001b[0;34m.\u001b[0m\u001b[0mpredict_proba\u001b[0m\u001b[0;34m(\u001b[0m\u001b[0mdataset\u001b[0m\u001b[0;34m[\u001b[0m\u001b[0mtrain_cols\u001b[0m\u001b[0;34m]\u001b[0m\u001b[0;34m)\u001b[0m\u001b[0;34m\u001b[0m\u001b[0;34m\u001b[0m\u001b[0m\n\u001b[0m\u001b[1;32m      4\u001b[0m \u001b[0mtest_preds\u001b[0m \u001b[0;34m=\u001b[0m \u001b[0mclf\u001b[0m\u001b[0;34m.\u001b[0m\u001b[0mpredict\u001b[0m\u001b[0;34m(\u001b[0m\u001b[0mdataset\u001b[0m\u001b[0;34m[\u001b[0m\u001b[0mtrain_cols\u001b[0m\u001b[0;34m]\u001b[0m\u001b[0;34m)\u001b[0m\u001b[0;34m\u001b[0m\u001b[0;34m\u001b[0m\u001b[0m\n",
      "\u001b[0;32m~/anaconda3/lib/python3.7/site-packages/xgboost/sklearn.py\u001b[0m in \u001b[0;36mpredict_proba\u001b[0;34m(self, data, ntree_limit, validate_features)\u001b[0m\n\u001b[1;32m    832\u001b[0m         class_probs = self.get_booster().predict(test_dmatrix,\n\u001b[1;32m    833\u001b[0m                                                  \u001b[0mntree_limit\u001b[0m\u001b[0;34m=\u001b[0m\u001b[0mntree_limit\u001b[0m\u001b[0;34m,\u001b[0m\u001b[0;34m\u001b[0m\u001b[0;34m\u001b[0m\u001b[0m\n\u001b[0;32m--> 834\u001b[0;31m                                                  validate_features=validate_features)\n\u001b[0m\u001b[1;32m    835\u001b[0m         \u001b[0;32mif\u001b[0m \u001b[0mself\u001b[0m\u001b[0;34m.\u001b[0m\u001b[0mobjective\u001b[0m \u001b[0;34m==\u001b[0m \u001b[0;34m\"multi:softprob\"\u001b[0m\u001b[0;34m:\u001b[0m\u001b[0;34m\u001b[0m\u001b[0;34m\u001b[0m\u001b[0m\n\u001b[1;32m    836\u001b[0m             \u001b[0;32mreturn\u001b[0m \u001b[0mclass_probs\u001b[0m\u001b[0;34m\u001b[0m\u001b[0;34m\u001b[0m\u001b[0m\n",
      "\u001b[0;32m~/anaconda3/lib/python3.7/site-packages/xgboost/core.py\u001b[0m in \u001b[0;36mpredict\u001b[0;34m(self, data, output_margin, ntree_limit, pred_leaf, pred_contribs, approx_contribs, pred_interactions, validate_features)\u001b[0m\n\u001b[1;32m   1282\u001b[0m \u001b[0;34m\u001b[0m\u001b[0m\n\u001b[1;32m   1283\u001b[0m         \u001b[0;32mif\u001b[0m \u001b[0mvalidate_features\u001b[0m\u001b[0;34m:\u001b[0m\u001b[0;34m\u001b[0m\u001b[0;34m\u001b[0m\u001b[0m\n\u001b[0;32m-> 1284\u001b[0;31m             \u001b[0mself\u001b[0m\u001b[0;34m.\u001b[0m\u001b[0m_validate_features\u001b[0m\u001b[0;34m(\u001b[0m\u001b[0mdata\u001b[0m\u001b[0;34m)\u001b[0m\u001b[0;34m\u001b[0m\u001b[0;34m\u001b[0m\u001b[0m\n\u001b[0m\u001b[1;32m   1285\u001b[0m \u001b[0;34m\u001b[0m\u001b[0m\n\u001b[1;32m   1286\u001b[0m         \u001b[0mlength\u001b[0m \u001b[0;34m=\u001b[0m \u001b[0mc_bst_ulong\u001b[0m\u001b[0;34m(\u001b[0m\u001b[0;34m)\u001b[0m\u001b[0;34m\u001b[0m\u001b[0;34m\u001b[0m\u001b[0m\n",
      "\u001b[0;32m~/anaconda3/lib/python3.7/site-packages/xgboost/core.py\u001b[0m in \u001b[0;36m_validate_features\u001b[0;34m(self, data)\u001b[0m\n\u001b[1;32m   1688\u001b[0m \u001b[0;34m\u001b[0m\u001b[0m\n\u001b[1;32m   1689\u001b[0m                 raise ValueError(msg.format(self.feature_names,\n\u001b[0;32m-> 1690\u001b[0;31m                                             data.feature_names))\n\u001b[0m\u001b[1;32m   1691\u001b[0m \u001b[0;34m\u001b[0m\u001b[0m\n\u001b[1;32m   1692\u001b[0m     \u001b[0;32mdef\u001b[0m \u001b[0mget_split_value_histogram\u001b[0m\u001b[0;34m(\u001b[0m\u001b[0mself\u001b[0m\u001b[0;34m,\u001b[0m \u001b[0mfeature\u001b[0m\u001b[0;34m,\u001b[0m \u001b[0mfmap\u001b[0m\u001b[0;34m=\u001b[0m\u001b[0;34m''\u001b[0m\u001b[0;34m,\u001b[0m \u001b[0mbins\u001b[0m\u001b[0;34m=\u001b[0m\u001b[0;32mNone\u001b[0m\u001b[0;34m,\u001b[0m \u001b[0mas_pandas\u001b[0m\u001b[0;34m=\u001b[0m\u001b[0;32mTrue\u001b[0m\u001b[0;34m)\u001b[0m\u001b[0;34m:\u001b[0m\u001b[0;34m\u001b[0m\u001b[0;34m\u001b[0m\u001b[0m\n",
      "\u001b[0;31mValueError\u001b[0m: feature_names mismatch: ['f0', 'f1', 'f2', 'f3', 'f4', 'f5', 'f6', 'f7', 'f8', 'f9', 'f10', 'f11', 'f12', 'f13', 'f14', 'f15', 'f16', 'f17', 'f18', 'f19', 'f20', 'f21', 'f22', 'f23', 'f24', 'f25', 'f26', 'f27', 'f28', 'f29', 'f30', 'f31', 'f32', 'f33', 'f34', 'f35', 'f36', 'f37', 'f38', 'f39', 'f40', 'f41', 'f42', 'f43', 'f44', 'f45', 'f46', 'f47', 'f48', 'f49', 'f50', 'f51', 'f52', 'f53', 'f54', 'f55', 'f56', 'f57', 'f58', 'f59', 'f60', 'f61', 'f62', 'f63', 'f64', 'f65', 'f66', 'f67', 'f68', 'f69', 'f70', 'f71', 'f72', 'f73', 'f74', 'f75', 'f76', 'f77', 'f78', 'f79', 'f80', 'f81', 'f82', 'f83', 'f84', 'f85', 'f86', 'f87', 'f88', 'f89', 'f90', 'f91', 'f92', 'f93', 'f94', 'f95', 'f96', 'f97', 'f98', 'f99', 'f100', 'f101', 'f102', 'f103', 'f104', 'f105', 'f106', 'f107', 'f108', 'f109'] ['TransactionAmt_scaled', 'hr_sin', 'hr_cos', 'DeviceType_desktop', 'DeviceType_mobile', 'DeviceType_unknown', 'ProductCD_C', 'ProductCD_H', 'ProductCD_R', 'ProductCD_S', 'ProductCD_W', 'card4_american express', 'card4_discover', 'card4_mastercard', 'card4_unknown', 'card4_visa', 'card6_charge card', 'card6_credit', 'card6_debit', 'card6_unknown', 'P_emaildomain_aim.com', 'P_emaildomain_anonymous.com', 'P_emaildomain_aol.com', 'P_emaildomain_att.net', 'P_emaildomain_bellsouth.net', 'P_emaildomain_cableone.net', 'P_emaildomain_centurylink.net', 'P_emaildomain_cfl.rr.com', 'P_emaildomain_charter.net', 'P_emaildomain_comcast.net', 'P_emaildomain_cox.net', 'P_emaildomain_earthlink.net', 'P_emaildomain_embarqmail.com', 'P_emaildomain_frontier.com', 'P_emaildomain_gmail.com', 'P_emaildomain_gmx.de', 'P_emaildomain_hotmail.com', 'P_emaildomain_icloud.com', 'P_emaildomain_juno.com', 'P_emaildomain_live.com', 'P_emaildomain_mac.com', 'P_emaildomain_mail.com', 'P_emaildomain_me.com', 'P_emaildomain_msn.com', 'P_emaildomain_netzero.com', 'P_emaildomain_optonline.net', 'P_emaildomain_outlook.com', 'P_emaildomain_prodigy.net.mx', 'P_emaildomain_protonmail.com', 'P_emaildomain_ptd.net', 'P_emaildomain_q.com', 'P_emaildomain_roadrunner.com', 'P_emaildomain_rocketmail.com', 'P_emaildomain_sbcglobal.net', 'P_emaildomain_sc.rr.com', 'P_emaildomain_scranton.edu', 'P_emaildomain_servicios-ta.com', 'P_emaildomain_suddenlink.net', 'P_emaildomain_twc.com', 'P_emaildomain_unknown', 'P_emaildomain_verizon.net', 'P_emaildomain_web.de', 'P_emaildomain_windstream.net', 'P_emaildomain_yahoo.com', 'P_emaildomain_ymail.com', 'R_emaildomain_aim.com', 'R_emaildomain_anonymous.com', 'R_emaildomain_aol.com', 'R_emaildomain_att.net', 'R_emaildomain_bellsouth.net', 'R_emaildomain_cableone.net', 'R_emaildomain_centurylink.net', 'R_emaildomain_cfl.rr.com', 'R_emaildomain_charter.net', 'R_emaildomain_comcast.net', 'R_emaildomain_cox.net', 'R_emaildomain_earthlink.net', 'R_emaildomain_embarqmail.com', 'R_emaildomain_frontier.com', 'R_emaildomain_gmail.com', 'R_emaildomain_gmx.de', 'R_emaildomain_hotmail.com', 'R_emaildomain_icloud.com', 'R_emaildomain_juno.com', 'R_emaildomain_live.com', 'R_emaildomain_mac.com', 'R_emaildomain_mail.com', 'R_emaildomain_me.com', 'R_emaildomain_msn.com', 'R_emaildomain_netzero.com', 'R_emaildomain_optonline.net', 'R_emaildomain_outlook.com', 'R_emaildomain_prodigy.net.mx', 'R_emaildomain_protonmail.com', 'R_emaildomain_ptd.net', 'R_emaildomain_q.com', 'R_emaildomain_roadrunner.com', 'R_emaildomain_rocketmail.com', 'R_emaildomain_sbcglobal.net', 'R_emaildomain_sc.rr.com', 'R_emaildomain_scranton.edu', 'R_emaildomain_servicios-ta.com', 'R_emaildomain_suddenlink.net', 'R_emaildomain_twc.com', 'R_emaildomain_unknown', 'R_emaildomain_verizon.net', 'R_emaildomain_web.de', 'R_emaildomain_windstream.net', 'R_emaildomain_yahoo.com', 'R_emaildomain_ymail.com']\nexpected f93, f47, f78, f100, f96, f68, f42, f33, f18, f40, f109, f25, f32, f15, f106, f81, f30, f14, f52, f107, f108, f19, f84, f56, f44, f12, f9, f89, f37, f64, f72, f45, f104, f24, f55, f75, f101, f10, f61, f77, f102, f91, f98, f80, f51, f69, f2, f0, f63, f4, f70, f3, f86, f99, f95, f36, f6, f13, f66, f83, f17, f82, f59, f49, f92, f23, f1, f21, f65, f22, f79, f41, f29, f50, f105, f94, f54, f26, f67, f58, f5, f35, f60, f43, f8, f39, f16, f97, f85, f103, f73, f28, f71, f62, f53, f46, f87, f74, f38, f27, f31, f57, f34, f48, f76, f11, f88, f7, f20, f90 in input data\ntraining data did not have the following fields: P_emaildomain_frontier.com, R_emaildomain_servicios-ta.com, R_emaildomain_optonline.net, P_emaildomain_me.com, card6_charge card, R_emaildomain_live.com, R_emaildomain_sbcglobal.net, P_emaildomain_outlook.com, P_emaildomain_cfl.rr.com, R_emaildomain_sc.rr.com, P_emaildomain_ymail.com, R_emaildomain_aol.com, R_emaildomain_windstream.net, P_emaildomain_comcast.net, R_emaildomain_centurylink.net, P_emaildomain_prodigy.net.mx, P_emaildomain_gmail.com, R_emaildomain_me.com, DeviceType_mobile, P_emaildomain_mail.com, R_emaildomain_netzero.com, P_emaildomain_anonymous.com, P_emaildomain_hotmail.com, P_emaildomain_centurylink.net, P_emaildomain_embarqmail.com, R_emaildomain_bellsouth.net, R_emaildomain_juno.com, card6_unknown, P_emaildomain_charter.net, card4_visa, P_emaildomain_windstream.net, P_emaildomain_gmx.de, P_emaildomain_verizon.net, DeviceType_desktop, P_emaildomain_roadrunner.com, R_emaildomain_rocketmail.com, ProductCD_C, R_emaildomain_aim.com, R_emaildomain_att.net, R_emaildomain_ymail.com, R_emaildomain_earthlink.net, P_emaildomain_aol.com, card6_credit, P_emaildomain_q.com, ProductCD_R, P_emaildomain_yahoo.com, P_emaildomain_aim.com, R_emaildomain_icloud.com, P_emaildomain_earthlink.net, P_emaildomain_twc.com, R_emaildomain_gmail.com, R_emaildomain_prodigy.net.mx, P_emaildomain_suddenlink.net, R_emaildomain_yahoo.com, card4_mastercard, R_emaildomain_unknown, R_emaildomain_cfl.rr.com, P_emaildomain_cox.net, P_emaildomain_web.de, ProductCD_W, R_emaildomain_hotmail.com, P_emaildomain_optonline.net, P_emaildomain_bellsouth.net, ProductCD_S, hr_cos, P_emaildomain_ptd.net, R_emaildomain_anonymous.com, R_emaildomain_roadrunner.com, P_emaildomain_scranton.edu, R_emaildomain_scranton.edu, DeviceType_unknown, P_emaildomain_rocketmail.com, P_emaildomain_sc.rr.com, hr_sin, R_emaildomain_q.com, R_emaildomain_msn.com, R_emaildomain_ptd.net, card6_debit, card4_unknown, card4_discover, P_emaildomain_protonmail.com, P_emaildomain_mac.com, P_emaildomain_icloud.com, R_emaildomain_comcast.net, R_emaildomain_mail.com, ProductCD_H, P_emaildomain_netzero.com, P_emaildomain_live.com, P_emaildomain_juno.com, R_emaildomain_verizon.net, P_emaildomain_unknown, P_emaildomain_servicios-ta.com, R_emaildomain_cableone.net, R_emaildomain_protonmail.com, R_emaildomain_mac.com, R_emaildomain_gmx.de, R_emaildomain_charter.net, R_emaildomain_suddenlink.net, R_emaildomain_cox.net, R_emaildomain_twc.com, R_emaildomain_outlook.com, card4_american express, R_emaildomain_frontier.com, P_emaildomain_sbcglobal.net, P_emaildomain_cableone.net, R_emaildomain_web.de, R_emaildomain_embarqmail.com, P_emaildomain_msn.com, P_emaildomain_att.net, TransactionAmt_scaled"
     ]
    }
   ],
   "source": [
    "import joblib\n",
    "clf = joblib.load('rs_rus_xgb.pkl')\n",
    "test_preds_proba = clf.predict_proba(dataset[train_cols])\n",
    "test_preds = clf.predict(dataset[train_cols])"
   ]
  },
  {
   "cell_type": "code",
   "execution_count": 39,
   "metadata": {},
   "outputs": [
    {
     "data": {
      "text/plain": [
       "False    357075\n",
       "True     149616\n",
       "Name: 0, dtype: int64"
      ]
     },
     "execution_count": 39,
     "metadata": {},
     "output_type": "execute_result"
    }
   ],
   "source": [
    "pd.DataFrame(test_preds)[0].value_counts()"
   ]
  },
  {
   "cell_type": "code",
   "execution_count": 21,
   "metadata": {},
   "outputs": [],
   "source": [
    "output = pd.DataFrame({'TransactionID': testset.TransactionID, 'isFraud': test_preds_proba[:,1]})"
   ]
  },
  {
   "cell_type": "code",
   "execution_count": 22,
   "metadata": {},
   "outputs": [],
   "source": [
    "output.to_csv('dataset/submission_4.csv', index=False)"
   ]
  },
  {
   "cell_type": "code",
   "execution_count": 50,
   "metadata": {},
   "outputs": [
    {
     "data": {
      "text/plain": [
       "['TransactionAmt_scaled',\n",
       " 'hr_sin',\n",
       " 'hr_cos',\n",
       " 'DeviceType_desktop',\n",
       " 'DeviceType_mobile',\n",
       " 'DeviceType_unknown',\n",
       " 'ProductCD_C',\n",
       " 'ProductCD_H',\n",
       " 'ProductCD_R',\n",
       " 'ProductCD_S',\n",
       " 'ProductCD_W',\n",
       " 'card4_american express',\n",
       " 'card4_discover',\n",
       " 'card4_mastercard',\n",
       " 'card4_unknown',\n",
       " 'card4_visa',\n",
       " 'card6_charge card',\n",
       " 'card6_credit',\n",
       " 'card6_debit',\n",
       " 'card6_debit or credit',\n",
       " 'card6_unknown',\n",
       " 'P_emaildomain_aim.com',\n",
       " 'P_emaildomain_anonymous.com',\n",
       " 'P_emaildomain_aol.com',\n",
       " 'P_emaildomain_att.net',\n",
       " 'P_emaildomain_bellsouth.net',\n",
       " 'P_emaildomain_cableone.net',\n",
       " 'P_emaildomain_centurylink.net',\n",
       " 'P_emaildomain_cfl.rr.com',\n",
       " 'P_emaildomain_charter.net',\n",
       " 'P_emaildomain_comcast.net',\n",
       " 'P_emaildomain_cox.net',\n",
       " 'P_emaildomain_earthlink.net',\n",
       " 'P_emaildomain_embarqmail.com',\n",
       " 'P_emaildomain_frontier.com',\n",
       " 'P_emaildomain_gmail.com',\n",
       " 'P_emaildomain_gmx.de',\n",
       " 'P_emaildomain_hotmail.com',\n",
       " 'P_emaildomain_icloud.com',\n",
       " 'P_emaildomain_juno.com',\n",
       " 'P_emaildomain_live.com',\n",
       " 'P_emaildomain_mac.com',\n",
       " 'P_emaildomain_mail.com',\n",
       " 'P_emaildomain_me.com',\n",
       " 'P_emaildomain_msn.com',\n",
       " 'P_emaildomain_netzero.com',\n",
       " 'P_emaildomain_optonline.net',\n",
       " 'P_emaildomain_outlook.com',\n",
       " 'P_emaildomain_prodigy.net.mx',\n",
       " 'P_emaildomain_protonmail.com',\n",
       " 'P_emaildomain_ptd.net',\n",
       " 'P_emaildomain_q.com',\n",
       " 'P_emaildomain_roadrunner.com',\n",
       " 'P_emaildomain_rocketmail.com',\n",
       " 'P_emaildomain_sbcglobal.net',\n",
       " 'P_emaildomain_sc.rr.com',\n",
       " 'P_emaildomain_servicios-ta.com',\n",
       " 'P_emaildomain_suddenlink.net',\n",
       " 'P_emaildomain_twc.com',\n",
       " 'P_emaildomain_unknown',\n",
       " 'P_emaildomain_verizon.net',\n",
       " 'P_emaildomain_web.de',\n",
       " 'P_emaildomain_windstream.net',\n",
       " 'P_emaildomain_yahoo.com',\n",
       " 'P_emaildomain_ymail.com',\n",
       " 'R_emaildomain_aim.com',\n",
       " 'R_emaildomain_anonymous.com',\n",
       " 'R_emaildomain_aol.com',\n",
       " 'R_emaildomain_att.net',\n",
       " 'R_emaildomain_bellsouth.net',\n",
       " 'R_emaildomain_cableone.net',\n",
       " 'R_emaildomain_centurylink.net',\n",
       " 'R_emaildomain_cfl.rr.com',\n",
       " 'R_emaildomain_charter.net',\n",
       " 'R_emaildomain_comcast.net',\n",
       " 'R_emaildomain_cox.net',\n",
       " 'R_emaildomain_earthlink.net',\n",
       " 'R_emaildomain_embarqmail.com',\n",
       " 'R_emaildomain_frontier.com',\n",
       " 'R_emaildomain_gmail.com',\n",
       " 'R_emaildomain_gmx.de',\n",
       " 'R_emaildomain_hotmail.com',\n",
       " 'R_emaildomain_icloud.com',\n",
       " 'R_emaildomain_juno.com',\n",
       " 'R_emaildomain_live.com',\n",
       " 'R_emaildomain_mac.com',\n",
       " 'R_emaildomain_mail.com',\n",
       " 'R_emaildomain_me.com',\n",
       " 'R_emaildomain_msn.com',\n",
       " 'R_emaildomain_netzero.com',\n",
       " 'R_emaildomain_optonline.net',\n",
       " 'R_emaildomain_outlook.com',\n",
       " 'R_emaildomain_prodigy.net.mx',\n",
       " 'R_emaildomain_protonmail.com',\n",
       " 'R_emaildomain_ptd.net',\n",
       " 'R_emaildomain_q.com',\n",
       " 'R_emaildomain_roadrunner.com',\n",
       " 'R_emaildomain_rocketmail.com',\n",
       " 'R_emaildomain_sbcglobal.net',\n",
       " 'R_emaildomain_sc.rr.com',\n",
       " 'R_emaildomain_scranton.edu',\n",
       " 'R_emaildomain_servicios-ta.com',\n",
       " 'R_emaildomain_suddenlink.net',\n",
       " 'R_emaildomain_twc.com',\n",
       " 'R_emaildomain_unknown',\n",
       " 'R_emaildomain_verizon.net',\n",
       " 'R_emaildomain_web.de',\n",
       " 'R_emaildomain_windstream.net',\n",
       " 'R_emaildomain_yahoo.com',\n",
       " 'R_emaildomain_ymail.com']"
      ]
     },
     "execution_count": 50,
     "metadata": {},
     "output_type": "execute_result"
    }
   ],
   "source": [
    "train_cols"
   ]
  },
  {
   "cell_type": "code",
   "execution_count": null,
   "metadata": {},
   "outputs": [],
   "source": []
  }
 ],
 "metadata": {
  "kernelspec": {
   "display_name": "Python 3",
   "language": "python",
   "name": "python3"
  },
  "language_info": {
   "codemirror_mode": {
    "name": "ipython",
    "version": 3
   },
   "file_extension": ".py",
   "mimetype": "text/x-python",
   "name": "python",
   "nbconvert_exporter": "python",
   "pygments_lexer": "ipython3",
   "version": "3.7.3"
  }
 },
 "nbformat": 4,
 "nbformat_minor": 4
}
